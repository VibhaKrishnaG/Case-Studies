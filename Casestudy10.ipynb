{
 "cells": [
  {
   "cell_type": "markdown",
   "id": "5fd98650",
   "metadata": {},
   "source": [
    "# CASE STUDY 10"
   ]
  },
  {
   "cell_type": "markdown",
   "id": "314ea09e",
   "metadata": {},
   "source": [
    "Attribute Information:\n",
    "\n",
    "• cap-shape: bell=b, conical=c, convex=x, flat=f, knobbed=k, sunken=s\n",
    "    \n",
    "• cap-surface: fibrous=f, grooves=g, scaly=y, smooth=s\n",
    "            \n",
    "• cap-colour: brown=n, buff=b, cinnamon=c, Gray=g, green=r, pink=p, purple=u, red=e, white=w, yellow=y\n",
    "            \n",
    "• bruises: bruises=t, no=f\n",
    "\n",
    "• odour: almond=a, anise=l, creosote=c, fishy=y, foul=f, musty=m, none=n, pungent=p, spicy=s\n",
    "\n",
    "• gill-attachment: attached=a, descending=d, free=f, notched=\n",
    "\n",
    "• gill-spacing: close=c, crowded=w, distant=d\n",
    "\n",
    "• gill-size: broad=b, narrow=n\n",
    "\n",
    "• gill-colour: black=k, brown=n, buff=b, chocolate=h, grey=g, green=r, orange=o, pink=p, purple=u, red=e, white=w, yellow=y\n",
    "\n",
    "• stalk-shape: enlarging=e, tapering=t\n",
    "\n",
    "• Stalk-root: bulbous=b, club=c, cup=u, equal=e, rhizomorphs=z, rooted=r, missing=?\n",
    "\n",
    "• stalk-surface-above-ring: fibrous=f, scaly=y, silky=k, smooth=s\n",
    "\n",
    "• stalk-surface-below-ring: fibrous=f, scaly=y, silky=k, smooth=s\n",
    "\n",
    "• stalk-colour-above-ring: brown=n, buff=b, cinnamon=c, gray=g, orange=o, pink=p, red=e, white=w, yellow=y\n",
    "\n",
    "• stalk-colour-below-ring: brown=n, buff=b, cinnamon=c, gray=g, orange=o, pink=p, red=e, white=w, yellow=y\n",
    "\n",
    "• veil-type: partial=p, universal=u\n",
    "\n",
    "• veil-colour: brown=n, orange=o, white=w, yellow=y\n",
    "\n",
    "• ring-number: none=n, one=o, two=t\n",
    "\n",
    "• ring-type: cobwebby=c, evanescent=e, flaring=f, large=l, none=n, pendant=p, sheathing=s, zone=z\n",
    "\n",
    "• spore-print-colour: black=k, brown=n, buff=b, chocolate=h, green=r, orange=o, purple=u, white=w, yellow=y\n",
    "\n",
    "• population: abundant=a, clustered=c, numerous=n, scattered=s, several=v, solitary=y\n",
    "\n",
    "• habitat: grasses=g, leaves=l, meadows=m, paths=p, urban=u, waste=w, woods=d\n"
   ]
  },
  {
   "cell_type": "markdown",
   "id": "521558e7",
   "metadata": {},
   "source": [
    "# Problem Statement:\n",
    "To make a suitable machine learning algorithm to predict if the mushroom is edible or poisonous (e or p) using the given dataset.\n",
    "(Along with other ML algorithms, Naïve Bayes’ Classifier should be applied)\n",
    "Also, if some data pre-processing is necessary do that as well."
   ]
  },
  {
   "cell_type": "code",
   "execution_count": 1,
   "id": "869bdb2b",
   "metadata": {},
   "outputs": [],
   "source": [
    "#importing all necessary libraries\n",
    "import numpy as np\n",
    "import matplotlib.pyplot as plt\n",
    "import pandas as pd\n",
    "import seaborn as sns\n",
    "import math\n",
    "\n",
    "import warnings\n",
    "warnings.filterwarnings(\"ignore\")"
   ]
  },
  {
   "cell_type": "code",
   "execution_count": 2,
   "id": "bac851e8",
   "metadata": {},
   "outputs": [],
   "source": [
    "#reading the dataset\n",
    "data = pd.read_csv(\"mushrooms.csv\")"
   ]
  },
  {
   "cell_type": "code",
   "execution_count": 3,
   "id": "3129cba9",
   "metadata": {},
   "outputs": [
    {
     "name": "stdout",
     "output_type": "stream",
     "text": [
      "<class 'pandas.core.frame.DataFrame'>\n",
      "RangeIndex: 8124 entries, 0 to 8123\n",
      "Data columns (total 23 columns):\n",
      " #   Column                    Non-Null Count  Dtype \n",
      "---  ------                    --------------  ----- \n",
      " 0   class                     8124 non-null   object\n",
      " 1   cap-shape                 8124 non-null   object\n",
      " 2   cap-surface               8124 non-null   object\n",
      " 3   cap-color                 8124 non-null   object\n",
      " 4   bruises                   8124 non-null   object\n",
      " 5   odor                      8124 non-null   object\n",
      " 6   gill-attachment           8124 non-null   object\n",
      " 7   gill-spacing              8124 non-null   object\n",
      " 8   gill-size                 8124 non-null   object\n",
      " 9   gill-color                8124 non-null   object\n",
      " 10  stalk-shape               8124 non-null   object\n",
      " 11  stalk-root                8124 non-null   object\n",
      " 12  stalk-surface-above-ring  8124 non-null   object\n",
      " 13  stalk-surface-below-ring  8124 non-null   object\n",
      " 14  stalk-color-above-ring    8124 non-null   object\n",
      " 15  stalk-color-below-ring    8124 non-null   object\n",
      " 16  veil-type                 8124 non-null   object\n",
      " 17  veil-color                8124 non-null   object\n",
      " 18  ring-number               8124 non-null   object\n",
      " 19  ring-type                 8124 non-null   object\n",
      " 20  spore-print-color         8124 non-null   object\n",
      " 21  population                8124 non-null   object\n",
      " 22  habitat                   8124 non-null   object\n",
      "dtypes: object(23)\n",
      "memory usage: 1.4+ MB\n"
     ]
    }
   ],
   "source": [
    "data.info()"
   ]
  },
  {
   "cell_type": "code",
   "execution_count": 4,
   "id": "03a1d4b9",
   "metadata": {},
   "outputs": [
    {
     "data": {
      "text/plain": [
       "(8124, 23)"
      ]
     },
     "execution_count": 4,
     "metadata": {},
     "output_type": "execute_result"
    }
   ],
   "source": [
    "data.shape"
   ]
  },
  {
   "cell_type": "markdown",
   "id": "bde016d0",
   "metadata": {},
   "source": [
    "There are 8124 rows and 23 columns"
   ]
  },
  {
   "cell_type": "code",
   "execution_count": 5,
   "id": "1295012b",
   "metadata": {},
   "outputs": [
    {
     "data": {
      "text/plain": [
       "class                       0\n",
       "cap-shape                   0\n",
       "cap-surface                 0\n",
       "cap-color                   0\n",
       "bruises                     0\n",
       "odor                        0\n",
       "gill-attachment             0\n",
       "gill-spacing                0\n",
       "gill-size                   0\n",
       "gill-color                  0\n",
       "stalk-shape                 0\n",
       "stalk-root                  0\n",
       "stalk-surface-above-ring    0\n",
       "stalk-surface-below-ring    0\n",
       "stalk-color-above-ring      0\n",
       "stalk-color-below-ring      0\n",
       "veil-type                   0\n",
       "veil-color                  0\n",
       "ring-number                 0\n",
       "ring-type                   0\n",
       "spore-print-color           0\n",
       "population                  0\n",
       "habitat                     0\n",
       "dtype: int64"
      ]
     },
     "execution_count": 5,
     "metadata": {},
     "output_type": "execute_result"
    }
   ],
   "source": [
    "data.isnull().sum()"
   ]
  },
  {
   "cell_type": "markdown",
   "id": "ee5cf47e",
   "metadata": {},
   "source": [
    "We can see that there are no null values"
   ]
  },
  {
   "cell_type": "code",
   "execution_count": 6,
   "id": "3b168a3b",
   "metadata": {},
   "outputs": [
    {
     "data": {
      "text/html": [
       "<div>\n",
       "<style scoped>\n",
       "    .dataframe tbody tr th:only-of-type {\n",
       "        vertical-align: middle;\n",
       "    }\n",
       "\n",
       "    .dataframe tbody tr th {\n",
       "        vertical-align: top;\n",
       "    }\n",
       "\n",
       "    .dataframe thead th {\n",
       "        text-align: right;\n",
       "    }\n",
       "</style>\n",
       "<table border=\"1\" class=\"dataframe\">\n",
       "  <thead>\n",
       "    <tr style=\"text-align: right;\">\n",
       "      <th></th>\n",
       "      <th>0</th>\n",
       "      <th>1</th>\n",
       "      <th>2</th>\n",
       "      <th>3</th>\n",
       "      <th>4</th>\n",
       "    </tr>\n",
       "  </thead>\n",
       "  <tbody>\n",
       "    <tr>\n",
       "      <th>class</th>\n",
       "      <td>p</td>\n",
       "      <td>e</td>\n",
       "      <td>e</td>\n",
       "      <td>p</td>\n",
       "      <td>e</td>\n",
       "    </tr>\n",
       "    <tr>\n",
       "      <th>cap-shape</th>\n",
       "      <td>x</td>\n",
       "      <td>x</td>\n",
       "      <td>b</td>\n",
       "      <td>x</td>\n",
       "      <td>x</td>\n",
       "    </tr>\n",
       "    <tr>\n",
       "      <th>cap-surface</th>\n",
       "      <td>s</td>\n",
       "      <td>s</td>\n",
       "      <td>s</td>\n",
       "      <td>y</td>\n",
       "      <td>s</td>\n",
       "    </tr>\n",
       "    <tr>\n",
       "      <th>cap-color</th>\n",
       "      <td>n</td>\n",
       "      <td>y</td>\n",
       "      <td>w</td>\n",
       "      <td>w</td>\n",
       "      <td>g</td>\n",
       "    </tr>\n",
       "    <tr>\n",
       "      <th>bruises</th>\n",
       "      <td>t</td>\n",
       "      <td>t</td>\n",
       "      <td>t</td>\n",
       "      <td>t</td>\n",
       "      <td>f</td>\n",
       "    </tr>\n",
       "    <tr>\n",
       "      <th>odor</th>\n",
       "      <td>p</td>\n",
       "      <td>a</td>\n",
       "      <td>l</td>\n",
       "      <td>p</td>\n",
       "      <td>n</td>\n",
       "    </tr>\n",
       "    <tr>\n",
       "      <th>gill-attachment</th>\n",
       "      <td>f</td>\n",
       "      <td>f</td>\n",
       "      <td>f</td>\n",
       "      <td>f</td>\n",
       "      <td>f</td>\n",
       "    </tr>\n",
       "    <tr>\n",
       "      <th>gill-spacing</th>\n",
       "      <td>c</td>\n",
       "      <td>c</td>\n",
       "      <td>c</td>\n",
       "      <td>c</td>\n",
       "      <td>w</td>\n",
       "    </tr>\n",
       "    <tr>\n",
       "      <th>gill-size</th>\n",
       "      <td>n</td>\n",
       "      <td>b</td>\n",
       "      <td>b</td>\n",
       "      <td>n</td>\n",
       "      <td>b</td>\n",
       "    </tr>\n",
       "    <tr>\n",
       "      <th>gill-color</th>\n",
       "      <td>k</td>\n",
       "      <td>k</td>\n",
       "      <td>n</td>\n",
       "      <td>n</td>\n",
       "      <td>k</td>\n",
       "    </tr>\n",
       "    <tr>\n",
       "      <th>stalk-shape</th>\n",
       "      <td>e</td>\n",
       "      <td>e</td>\n",
       "      <td>e</td>\n",
       "      <td>e</td>\n",
       "      <td>t</td>\n",
       "    </tr>\n",
       "    <tr>\n",
       "      <th>stalk-root</th>\n",
       "      <td>e</td>\n",
       "      <td>c</td>\n",
       "      <td>c</td>\n",
       "      <td>e</td>\n",
       "      <td>e</td>\n",
       "    </tr>\n",
       "    <tr>\n",
       "      <th>stalk-surface-above-ring</th>\n",
       "      <td>s</td>\n",
       "      <td>s</td>\n",
       "      <td>s</td>\n",
       "      <td>s</td>\n",
       "      <td>s</td>\n",
       "    </tr>\n",
       "    <tr>\n",
       "      <th>stalk-surface-below-ring</th>\n",
       "      <td>s</td>\n",
       "      <td>s</td>\n",
       "      <td>s</td>\n",
       "      <td>s</td>\n",
       "      <td>s</td>\n",
       "    </tr>\n",
       "    <tr>\n",
       "      <th>stalk-color-above-ring</th>\n",
       "      <td>w</td>\n",
       "      <td>w</td>\n",
       "      <td>w</td>\n",
       "      <td>w</td>\n",
       "      <td>w</td>\n",
       "    </tr>\n",
       "    <tr>\n",
       "      <th>stalk-color-below-ring</th>\n",
       "      <td>w</td>\n",
       "      <td>w</td>\n",
       "      <td>w</td>\n",
       "      <td>w</td>\n",
       "      <td>w</td>\n",
       "    </tr>\n",
       "    <tr>\n",
       "      <th>veil-type</th>\n",
       "      <td>p</td>\n",
       "      <td>p</td>\n",
       "      <td>p</td>\n",
       "      <td>p</td>\n",
       "      <td>p</td>\n",
       "    </tr>\n",
       "    <tr>\n",
       "      <th>veil-color</th>\n",
       "      <td>w</td>\n",
       "      <td>w</td>\n",
       "      <td>w</td>\n",
       "      <td>w</td>\n",
       "      <td>w</td>\n",
       "    </tr>\n",
       "    <tr>\n",
       "      <th>ring-number</th>\n",
       "      <td>o</td>\n",
       "      <td>o</td>\n",
       "      <td>o</td>\n",
       "      <td>o</td>\n",
       "      <td>o</td>\n",
       "    </tr>\n",
       "    <tr>\n",
       "      <th>ring-type</th>\n",
       "      <td>p</td>\n",
       "      <td>p</td>\n",
       "      <td>p</td>\n",
       "      <td>p</td>\n",
       "      <td>e</td>\n",
       "    </tr>\n",
       "    <tr>\n",
       "      <th>spore-print-color</th>\n",
       "      <td>k</td>\n",
       "      <td>n</td>\n",
       "      <td>n</td>\n",
       "      <td>k</td>\n",
       "      <td>n</td>\n",
       "    </tr>\n",
       "    <tr>\n",
       "      <th>population</th>\n",
       "      <td>s</td>\n",
       "      <td>n</td>\n",
       "      <td>n</td>\n",
       "      <td>s</td>\n",
       "      <td>a</td>\n",
       "    </tr>\n",
       "    <tr>\n",
       "      <th>habitat</th>\n",
       "      <td>u</td>\n",
       "      <td>g</td>\n",
       "      <td>m</td>\n",
       "      <td>u</td>\n",
       "      <td>g</td>\n",
       "    </tr>\n",
       "  </tbody>\n",
       "</table>\n",
       "</div>"
      ],
      "text/plain": [
       "                          0  1  2  3  4\n",
       "class                     p  e  e  p  e\n",
       "cap-shape                 x  x  b  x  x\n",
       "cap-surface               s  s  s  y  s\n",
       "cap-color                 n  y  w  w  g\n",
       "bruises                   t  t  t  t  f\n",
       "odor                      p  a  l  p  n\n",
       "gill-attachment           f  f  f  f  f\n",
       "gill-spacing              c  c  c  c  w\n",
       "gill-size                 n  b  b  n  b\n",
       "gill-color                k  k  n  n  k\n",
       "stalk-shape               e  e  e  e  t\n",
       "stalk-root                e  c  c  e  e\n",
       "stalk-surface-above-ring  s  s  s  s  s\n",
       "stalk-surface-below-ring  s  s  s  s  s\n",
       "stalk-color-above-ring    w  w  w  w  w\n",
       "stalk-color-below-ring    w  w  w  w  w\n",
       "veil-type                 p  p  p  p  p\n",
       "veil-color                w  w  w  w  w\n",
       "ring-number               o  o  o  o  o\n",
       "ring-type                 p  p  p  p  e\n",
       "spore-print-color         k  n  n  k  n\n",
       "population                s  n  n  s  a\n",
       "habitat                   u  g  m  u  g"
      ]
     },
     "execution_count": 6,
     "metadata": {},
     "output_type": "execute_result"
    }
   ],
   "source": [
    "data.head().T"
   ]
  },
  {
   "cell_type": "code",
   "execution_count": 7,
   "id": "1e5eb60f",
   "metadata": {},
   "outputs": [
    {
     "data": {
      "text/plain": [
       "Index(['class', 'cap-shape', 'cap-surface', 'cap-color', 'bruises', 'odor',\n",
       "       'gill-attachment', 'gill-spacing', 'gill-size', 'gill-color',\n",
       "       'stalk-shape', 'stalk-root', 'stalk-surface-above-ring',\n",
       "       'stalk-surface-below-ring', 'stalk-color-above-ring',\n",
       "       'stalk-color-below-ring', 'veil-type', 'veil-color', 'ring-number',\n",
       "       'ring-type', 'spore-print-color', 'population', 'habitat'],\n",
       "      dtype='object')"
      ]
     },
     "execution_count": 7,
     "metadata": {},
     "output_type": "execute_result"
    }
   ],
   "source": [
    "x=data.columns\n",
    "x"
   ]
  },
  {
   "cell_type": "markdown",
   "id": "2331741e",
   "metadata": {},
   "source": [
    "To find the unique values in each columns-"
   ]
  },
  {
   "cell_type": "code",
   "execution_count": 8,
   "id": "cfc3b361",
   "metadata": {},
   "outputs": [
    {
     "name": "stdout",
     "output_type": "stream",
     "text": [
      "class\n",
      "e    4208\n",
      "p    3916\n",
      "Name: class, dtype: int64\n",
      "cap-shape\n",
      "x    3656\n",
      "f    3152\n",
      "k     828\n",
      "b     452\n",
      "s      32\n",
      "c       4\n",
      "Name: cap-shape, dtype: int64\n",
      "cap-surface\n",
      "y    3244\n",
      "s    2556\n",
      "f    2320\n",
      "g       4\n",
      "Name: cap-surface, dtype: int64\n",
      "cap-color\n",
      "n    2284\n",
      "g    1840\n",
      "e    1500\n",
      "y    1072\n",
      "w    1040\n",
      "b     168\n",
      "p     144\n",
      "c      44\n",
      "u      16\n",
      "r      16\n",
      "Name: cap-color, dtype: int64\n",
      "bruises\n",
      "f    4748\n",
      "t    3376\n",
      "Name: bruises, dtype: int64\n",
      "odor\n",
      "n    3528\n",
      "f    2160\n",
      "s     576\n",
      "y     576\n",
      "l     400\n",
      "a     400\n",
      "p     256\n",
      "c     192\n",
      "m      36\n",
      "Name: odor, dtype: int64\n",
      "gill-attachment\n",
      "f    7914\n",
      "a     210\n",
      "Name: gill-attachment, dtype: int64\n",
      "gill-spacing\n",
      "c    6812\n",
      "w    1312\n",
      "Name: gill-spacing, dtype: int64\n",
      "gill-size\n",
      "b    5612\n",
      "n    2512\n",
      "Name: gill-size, dtype: int64\n",
      "gill-color\n",
      "b    1728\n",
      "p    1492\n",
      "w    1202\n",
      "n    1048\n",
      "g     752\n",
      "h     732\n",
      "u     492\n",
      "k     408\n",
      "e      96\n",
      "y      86\n",
      "o      64\n",
      "r      24\n",
      "Name: gill-color, dtype: int64\n",
      "stalk-shape\n",
      "t    4608\n",
      "e    3516\n",
      "Name: stalk-shape, dtype: int64\n",
      "stalk-root\n",
      "b    3776\n",
      "?    2480\n",
      "e    1120\n",
      "c     556\n",
      "r     192\n",
      "Name: stalk-root, dtype: int64\n",
      "stalk-surface-above-ring\n",
      "s    5176\n",
      "k    2372\n",
      "f     552\n",
      "y      24\n",
      "Name: stalk-surface-above-ring, dtype: int64\n",
      "stalk-surface-below-ring\n",
      "s    4936\n",
      "k    2304\n",
      "f     600\n",
      "y     284\n",
      "Name: stalk-surface-below-ring, dtype: int64\n",
      "stalk-color-above-ring\n",
      "w    4464\n",
      "p    1872\n",
      "g     576\n",
      "n     448\n",
      "b     432\n",
      "o     192\n",
      "e      96\n",
      "c      36\n",
      "y       8\n",
      "Name: stalk-color-above-ring, dtype: int64\n",
      "stalk-color-below-ring\n",
      "w    4384\n",
      "p    1872\n",
      "g     576\n",
      "n     512\n",
      "b     432\n",
      "o     192\n",
      "e      96\n",
      "c      36\n",
      "y      24\n",
      "Name: stalk-color-below-ring, dtype: int64\n",
      "veil-type\n",
      "p    8124\n",
      "Name: veil-type, dtype: int64\n",
      "veil-color\n",
      "w    7924\n",
      "o      96\n",
      "n      96\n",
      "y       8\n",
      "Name: veil-color, dtype: int64\n",
      "ring-number\n",
      "o    7488\n",
      "t     600\n",
      "n      36\n",
      "Name: ring-number, dtype: int64\n",
      "ring-type\n",
      "p    3968\n",
      "e    2776\n",
      "l    1296\n",
      "f      48\n",
      "n      36\n",
      "Name: ring-type, dtype: int64\n",
      "spore-print-color\n",
      "w    2388\n",
      "n    1968\n",
      "k    1872\n",
      "h    1632\n",
      "r      72\n",
      "b      48\n",
      "u      48\n",
      "o      48\n",
      "y      48\n",
      "Name: spore-print-color, dtype: int64\n",
      "population\n",
      "v    4040\n",
      "y    1712\n",
      "s    1248\n",
      "n     400\n",
      "a     384\n",
      "c     340\n",
      "Name: population, dtype: int64\n",
      "habitat\n",
      "d    3148\n",
      "g    2148\n",
      "p    1144\n",
      "l     832\n",
      "u     368\n",
      "m     292\n",
      "w     192\n",
      "Name: habitat, dtype: int64\n"
     ]
    }
   ],
   "source": [
    "for i in x:\n",
    "    print(i)\n",
    "    print(data[i].value_counts())"
   ]
  },
  {
   "cell_type": "code",
   "execution_count": 9,
   "id": "d7a6c276",
   "metadata": {},
   "outputs": [
    {
     "data": {
      "text/plain": [
       "b    3776\n",
       "?    2480\n",
       "e    1120\n",
       "c     556\n",
       "r     192\n",
       "Name: stalk-root, dtype: int64"
      ]
     },
     "execution_count": 9,
     "metadata": {},
     "output_type": "execute_result"
    }
   ],
   "source": [
    "data['stalk-root'].value_counts()"
   ]
  },
  {
   "cell_type": "code",
   "execution_count": 10,
   "id": "2b967c63",
   "metadata": {},
   "outputs": [],
   "source": [
    "data=data.replace(to_replace =\"?\",value =\"b\")"
   ]
  },
  {
   "cell_type": "code",
   "execution_count": 11,
   "id": "ff9cd8ef",
   "metadata": {},
   "outputs": [
    {
     "data": {
      "text/plain": [
       "b    6256\n",
       "e    1120\n",
       "c     556\n",
       "r     192\n",
       "Name: stalk-root, dtype: int64"
      ]
     },
     "execution_count": 11,
     "metadata": {},
     "output_type": "execute_result"
    }
   ],
   "source": [
    "data['stalk-root'].value_counts()"
   ]
  },
  {
   "cell_type": "markdown",
   "id": "722bcaff",
   "metadata": {},
   "source": [
    "We have changed '?' to mode or most occuring value 'b'"
   ]
  },
  {
   "cell_type": "code",
   "execution_count": 12,
   "id": "1d2d6c29",
   "metadata": {},
   "outputs": [
    {
     "data": {
      "text/html": [
       "<div>\n",
       "<style scoped>\n",
       "    .dataframe tbody tr th:only-of-type {\n",
       "        vertical-align: middle;\n",
       "    }\n",
       "\n",
       "    .dataframe tbody tr th {\n",
       "        vertical-align: top;\n",
       "    }\n",
       "\n",
       "    .dataframe thead th {\n",
       "        text-align: right;\n",
       "    }\n",
       "</style>\n",
       "<table border=\"1\" class=\"dataframe\">\n",
       "  <thead>\n",
       "    <tr style=\"text-align: right;\">\n",
       "      <th></th>\n",
       "      <th>count</th>\n",
       "      <th>unique</th>\n",
       "      <th>top</th>\n",
       "      <th>freq</th>\n",
       "    </tr>\n",
       "  </thead>\n",
       "  <tbody>\n",
       "    <tr>\n",
       "      <th>class</th>\n",
       "      <td>8124</td>\n",
       "      <td>2</td>\n",
       "      <td>e</td>\n",
       "      <td>4208</td>\n",
       "    </tr>\n",
       "    <tr>\n",
       "      <th>cap-shape</th>\n",
       "      <td>8124</td>\n",
       "      <td>6</td>\n",
       "      <td>x</td>\n",
       "      <td>3656</td>\n",
       "    </tr>\n",
       "    <tr>\n",
       "      <th>cap-surface</th>\n",
       "      <td>8124</td>\n",
       "      <td>4</td>\n",
       "      <td>y</td>\n",
       "      <td>3244</td>\n",
       "    </tr>\n",
       "    <tr>\n",
       "      <th>cap-color</th>\n",
       "      <td>8124</td>\n",
       "      <td>10</td>\n",
       "      <td>n</td>\n",
       "      <td>2284</td>\n",
       "    </tr>\n",
       "    <tr>\n",
       "      <th>bruises</th>\n",
       "      <td>8124</td>\n",
       "      <td>2</td>\n",
       "      <td>f</td>\n",
       "      <td>4748</td>\n",
       "    </tr>\n",
       "    <tr>\n",
       "      <th>odor</th>\n",
       "      <td>8124</td>\n",
       "      <td>9</td>\n",
       "      <td>n</td>\n",
       "      <td>3528</td>\n",
       "    </tr>\n",
       "    <tr>\n",
       "      <th>gill-attachment</th>\n",
       "      <td>8124</td>\n",
       "      <td>2</td>\n",
       "      <td>f</td>\n",
       "      <td>7914</td>\n",
       "    </tr>\n",
       "    <tr>\n",
       "      <th>gill-spacing</th>\n",
       "      <td>8124</td>\n",
       "      <td>2</td>\n",
       "      <td>c</td>\n",
       "      <td>6812</td>\n",
       "    </tr>\n",
       "    <tr>\n",
       "      <th>gill-size</th>\n",
       "      <td>8124</td>\n",
       "      <td>2</td>\n",
       "      <td>b</td>\n",
       "      <td>5612</td>\n",
       "    </tr>\n",
       "    <tr>\n",
       "      <th>gill-color</th>\n",
       "      <td>8124</td>\n",
       "      <td>12</td>\n",
       "      <td>b</td>\n",
       "      <td>1728</td>\n",
       "    </tr>\n",
       "    <tr>\n",
       "      <th>stalk-shape</th>\n",
       "      <td>8124</td>\n",
       "      <td>2</td>\n",
       "      <td>t</td>\n",
       "      <td>4608</td>\n",
       "    </tr>\n",
       "    <tr>\n",
       "      <th>stalk-root</th>\n",
       "      <td>8124</td>\n",
       "      <td>4</td>\n",
       "      <td>b</td>\n",
       "      <td>6256</td>\n",
       "    </tr>\n",
       "    <tr>\n",
       "      <th>stalk-surface-above-ring</th>\n",
       "      <td>8124</td>\n",
       "      <td>4</td>\n",
       "      <td>s</td>\n",
       "      <td>5176</td>\n",
       "    </tr>\n",
       "    <tr>\n",
       "      <th>stalk-surface-below-ring</th>\n",
       "      <td>8124</td>\n",
       "      <td>4</td>\n",
       "      <td>s</td>\n",
       "      <td>4936</td>\n",
       "    </tr>\n",
       "    <tr>\n",
       "      <th>stalk-color-above-ring</th>\n",
       "      <td>8124</td>\n",
       "      <td>9</td>\n",
       "      <td>w</td>\n",
       "      <td>4464</td>\n",
       "    </tr>\n",
       "    <tr>\n",
       "      <th>stalk-color-below-ring</th>\n",
       "      <td>8124</td>\n",
       "      <td>9</td>\n",
       "      <td>w</td>\n",
       "      <td>4384</td>\n",
       "    </tr>\n",
       "    <tr>\n",
       "      <th>veil-type</th>\n",
       "      <td>8124</td>\n",
       "      <td>1</td>\n",
       "      <td>p</td>\n",
       "      <td>8124</td>\n",
       "    </tr>\n",
       "    <tr>\n",
       "      <th>veil-color</th>\n",
       "      <td>8124</td>\n",
       "      <td>4</td>\n",
       "      <td>w</td>\n",
       "      <td>7924</td>\n",
       "    </tr>\n",
       "    <tr>\n",
       "      <th>ring-number</th>\n",
       "      <td>8124</td>\n",
       "      <td>3</td>\n",
       "      <td>o</td>\n",
       "      <td>7488</td>\n",
       "    </tr>\n",
       "    <tr>\n",
       "      <th>ring-type</th>\n",
       "      <td>8124</td>\n",
       "      <td>5</td>\n",
       "      <td>p</td>\n",
       "      <td>3968</td>\n",
       "    </tr>\n",
       "    <tr>\n",
       "      <th>spore-print-color</th>\n",
       "      <td>8124</td>\n",
       "      <td>9</td>\n",
       "      <td>w</td>\n",
       "      <td>2388</td>\n",
       "    </tr>\n",
       "    <tr>\n",
       "      <th>population</th>\n",
       "      <td>8124</td>\n",
       "      <td>6</td>\n",
       "      <td>v</td>\n",
       "      <td>4040</td>\n",
       "    </tr>\n",
       "    <tr>\n",
       "      <th>habitat</th>\n",
       "      <td>8124</td>\n",
       "      <td>7</td>\n",
       "      <td>d</td>\n",
       "      <td>3148</td>\n",
       "    </tr>\n",
       "  </tbody>\n",
       "</table>\n",
       "</div>"
      ],
      "text/plain": [
       "                         count unique top  freq\n",
       "class                     8124      2   e  4208\n",
       "cap-shape                 8124      6   x  3656\n",
       "cap-surface               8124      4   y  3244\n",
       "cap-color                 8124     10   n  2284\n",
       "bruises                   8124      2   f  4748\n",
       "odor                      8124      9   n  3528\n",
       "gill-attachment           8124      2   f  7914\n",
       "gill-spacing              8124      2   c  6812\n",
       "gill-size                 8124      2   b  5612\n",
       "gill-color                8124     12   b  1728\n",
       "stalk-shape               8124      2   t  4608\n",
       "stalk-root                8124      4   b  6256\n",
       "stalk-surface-above-ring  8124      4   s  5176\n",
       "stalk-surface-below-ring  8124      4   s  4936\n",
       "stalk-color-above-ring    8124      9   w  4464\n",
       "stalk-color-below-ring    8124      9   w  4384\n",
       "veil-type                 8124      1   p  8124\n",
       "veil-color                8124      4   w  7924\n",
       "ring-number               8124      3   o  7488\n",
       "ring-type                 8124      5   p  3968\n",
       "spore-print-color         8124      9   w  2388\n",
       "population                8124      6   v  4040\n",
       "habitat                   8124      7   d  3148"
      ]
     },
     "execution_count": 12,
     "metadata": {},
     "output_type": "execute_result"
    }
   ],
   "source": [
    "#describing the data\n",
    "data.describe().T "
   ]
  },
  {
   "cell_type": "raw",
   "id": "56396fe7",
   "metadata": {},
   "source": [
    "data1 = pd.get_dummies(data)\n",
    "data1.head().T"
   ]
  },
  {
   "cell_type": "raw",
   "id": "b28f899b",
   "metadata": {},
   "source": [
    "from sklearn.preprocessing import LabelEncoder\n",
    "le = LabelEncoder()\n",
    "dat1=data.apply(LabelEncoder().fit_transform)\n",
    "dat1.head().T"
   ]
  },
  {
   "cell_type": "markdown",
   "id": "6e720d5d",
   "metadata": {},
   "source": [
    "# EDA"
   ]
  },
  {
   "cell_type": "code",
   "execution_count": 13,
   "id": "181a0c34",
   "metadata": {},
   "outputs": [
    {
     "data": {
      "text/plain": [
       "<AxesSubplot:xlabel='class', ylabel='count'>"
      ]
     },
     "execution_count": 13,
     "metadata": {},
     "output_type": "execute_result"
    },
    {
     "data": {
      "image/png": "[encoded data removed]",
      "text/plain": [
       "<Figure size 432x288 with 1 Axes>"
      ]
     },
     "metadata": {
      "needs_background": "light"
     },
     "output_type": "display_data"
    }
   ],
   "source": [
    "sns.countplot(data['class'])"
   ]
  },
  {
   "cell_type": "markdown",
   "id": "3a0f3d59",
   "metadata": {},
   "source": [
    "Majority of the mushrooms can be seen as edible."
   ]
  },
  {
   "cell_type": "markdown",
   "id": "2e7d8d9a",
   "metadata": {},
   "source": [
    "# Splitting the dataset into features and target"
   ]
  },
  {
   "cell_type": "code",
   "execution_count": 14,
   "id": "fae0fe65",
   "metadata": {},
   "outputs": [],
   "source": [
    "x=data.drop('class',axis=1)\n",
    "y=data['class']"
   ]
  },
  {
   "cell_type": "code",
   "execution_count": 15,
   "id": "e21f30d1",
   "metadata": {},
   "outputs": [],
   "source": [
    "#Encoding X\n",
    "X=pd.get_dummies(x,drop_first=True)"
   ]
  },
  {
   "cell_type": "code",
   "execution_count": 16,
   "id": "50a47dc0",
   "metadata": {},
   "outputs": [
    {
     "data": {
      "text/html": [
       "<div>\n",
       "<style scoped>\n",
       "    .dataframe tbody tr th:only-of-type {\n",
       "        vertical-align: middle;\n",
       "    }\n",
       "\n",
       "    .dataframe tbody tr th {\n",
       "        vertical-align: top;\n",
       "    }\n",
       "\n",
       "    .dataframe thead th {\n",
       "        text-align: right;\n",
       "    }\n",
       "</style>\n",
       "<table border=\"1\" class=\"dataframe\">\n",
       "  <thead>\n",
       "    <tr style=\"text-align: right;\">\n",
       "      <th></th>\n",
       "      <th>cap-shape_c</th>\n",
       "      <th>cap-shape_f</th>\n",
       "      <th>cap-shape_k</th>\n",
       "      <th>cap-shape_s</th>\n",
       "      <th>cap-shape_x</th>\n",
       "      <th>cap-surface_g</th>\n",
       "      <th>cap-surface_s</th>\n",
       "      <th>cap-surface_y</th>\n",
       "      <th>cap-color_c</th>\n",
       "      <th>cap-color_e</th>\n",
       "      <th>...</th>\n",
       "      <th>population_n</th>\n",
       "      <th>population_s</th>\n",
       "      <th>population_v</th>\n",
       "      <th>population_y</th>\n",
       "      <th>habitat_g</th>\n",
       "      <th>habitat_l</th>\n",
       "      <th>habitat_m</th>\n",
       "      <th>habitat_p</th>\n",
       "      <th>habitat_u</th>\n",
       "      <th>habitat_w</th>\n",
       "    </tr>\n",
       "  </thead>\n",
       "  <tbody>\n",
       "    <tr>\n",
       "      <th>0</th>\n",
       "      <td>0</td>\n",
       "      <td>0</td>\n",
       "      <td>0</td>\n",
       "      <td>0</td>\n",
       "      <td>1</td>\n",
       "      <td>0</td>\n",
       "      <td>1</td>\n",
       "      <td>0</td>\n",
       "      <td>0</td>\n",
       "      <td>0</td>\n",
       "      <td>...</td>\n",
       "      <td>0</td>\n",
       "      <td>1</td>\n",
       "      <td>0</td>\n",
       "      <td>0</td>\n",
       "      <td>0</td>\n",
       "      <td>0</td>\n",
       "      <td>0</td>\n",
       "      <td>0</td>\n",
       "      <td>1</td>\n",
       "      <td>0</td>\n",
       "    </tr>\n",
       "    <tr>\n",
       "      <th>1</th>\n",
       "      <td>0</td>\n",
       "      <td>0</td>\n",
       "      <td>0</td>\n",
       "      <td>0</td>\n",
       "      <td>1</td>\n",
       "      <td>0</td>\n",
       "      <td>1</td>\n",
       "      <td>0</td>\n",
       "      <td>0</td>\n",
       "      <td>0</td>\n",
       "      <td>...</td>\n",
       "      <td>1</td>\n",
       "      <td>0</td>\n",
       "      <td>0</td>\n",
       "      <td>0</td>\n",
       "      <td>1</td>\n",
       "      <td>0</td>\n",
       "      <td>0</td>\n",
       "      <td>0</td>\n",
       "      <td>0</td>\n",
       "      <td>0</td>\n",
       "    </tr>\n",
       "    <tr>\n",
       "      <th>2</th>\n",
       "      <td>0</td>\n",
       "      <td>0</td>\n",
       "      <td>0</td>\n",
       "      <td>0</td>\n",
       "      <td>0</td>\n",
       "      <td>0</td>\n",
       "      <td>1</td>\n",
       "      <td>0</td>\n",
       "      <td>0</td>\n",
       "      <td>0</td>\n",
       "      <td>...</td>\n",
       "      <td>1</td>\n",
       "      <td>0</td>\n",
       "      <td>0</td>\n",
       "      <td>0</td>\n",
       "      <td>0</td>\n",
       "      <td>0</td>\n",
       "      <td>1</td>\n",
       "      <td>0</td>\n",
       "      <td>0</td>\n",
       "      <td>0</td>\n",
       "    </tr>\n",
       "    <tr>\n",
       "      <th>3</th>\n",
       "      <td>0</td>\n",
       "      <td>0</td>\n",
       "      <td>0</td>\n",
       "      <td>0</td>\n",
       "      <td>1</td>\n",
       "      <td>0</td>\n",
       "      <td>0</td>\n",
       "      <td>1</td>\n",
       "      <td>0</td>\n",
       "      <td>0</td>\n",
       "      <td>...</td>\n",
       "      <td>0</td>\n",
       "      <td>1</td>\n",
       "      <td>0</td>\n",
       "      <td>0</td>\n",
       "      <td>0</td>\n",
       "      <td>0</td>\n",
       "      <td>0</td>\n",
       "      <td>0</td>\n",
       "      <td>1</td>\n",
       "      <td>0</td>\n",
       "    </tr>\n",
       "    <tr>\n",
       "      <th>4</th>\n",
       "      <td>0</td>\n",
       "      <td>0</td>\n",
       "      <td>0</td>\n",
       "      <td>0</td>\n",
       "      <td>1</td>\n",
       "      <td>0</td>\n",
       "      <td>1</td>\n",
       "      <td>0</td>\n",
       "      <td>0</td>\n",
       "      <td>0</td>\n",
       "      <td>...</td>\n",
       "      <td>0</td>\n",
       "      <td>0</td>\n",
       "      <td>0</td>\n",
       "      <td>0</td>\n",
       "      <td>1</td>\n",
       "      <td>0</td>\n",
       "      <td>0</td>\n",
       "      <td>0</td>\n",
       "      <td>0</td>\n",
       "      <td>0</td>\n",
       "    </tr>\n",
       "  </tbody>\n",
       "</table>\n",
       "<p>5 rows × 94 columns</p>\n",
       "</div>"
      ],
      "text/plain": [
       "   cap-shape_c  cap-shape_f  cap-shape_k  cap-shape_s  cap-shape_x  \\\n",
       "0            0            0            0            0            1   \n",
       "1            0            0            0            0            1   \n",
       "2            0            0            0            0            0   \n",
       "3            0            0            0            0            1   \n",
       "4            0            0            0            0            1   \n",
       "\n",
       "   cap-surface_g  cap-surface_s  cap-surface_y  cap-color_c  cap-color_e  ...  \\\n",
       "0              0              1              0            0            0  ...   \n",
       "1              0              1              0            0            0  ...   \n",
       "2              0              1              0            0            0  ...   \n",
       "3              0              0              1            0            0  ...   \n",
       "4              0              1              0            0            0  ...   \n",
       "\n",
       "   population_n  population_s  population_v  population_y  habitat_g  \\\n",
       "0             0             1             0             0          0   \n",
       "1             1             0             0             0          1   \n",
       "2             1             0             0             0          0   \n",
       "3             0             1             0             0          0   \n",
       "4             0             0             0             0          1   \n",
       "\n",
       "   habitat_l  habitat_m  habitat_p  habitat_u  habitat_w  \n",
       "0          0          0          0          1          0  \n",
       "1          0          0          0          0          0  \n",
       "2          0          1          0          0          0  \n",
       "3          0          0          0          1          0  \n",
       "4          0          0          0          0          0  \n",
       "\n",
       "[5 rows x 94 columns]"
      ]
     },
     "execution_count": 16,
     "metadata": {},
     "output_type": "execute_result"
    }
   ],
   "source": [
    "X.head()"
   ]
  },
  {
   "cell_type": "markdown",
   "id": "bc7a11c3",
   "metadata": {},
   "source": [
    "# Splitting the dataset into training and testing"
   ]
  },
  {
   "cell_type": "code",
   "execution_count": 17,
   "id": "3d7f925f",
   "metadata": {},
   "outputs": [],
   "source": [
    "from sklearn.model_selection import train_test_split\n",
    "X_train, X_test, y_train, y_test = train_test_split(X, y, random_state = 42, test_size = 0.3)"
   ]
  },
  {
   "cell_type": "code",
   "execution_count": 18,
   "id": "354981d3",
   "metadata": {},
   "outputs": [],
   "source": [
    "# importing alll the necessary libraries to use in various classification algorithms\n",
    "from sklearn.linear_model import LogisticRegression  # for Logistic Regression algorithm\n",
    "from sklearn.neighbors import KNeighborsClassifier  # for K Nearest Neighbours\n",
    "from sklearn.svm import SVC # for Support Vector Machine (SVM) Classifier Algorithm\n",
    "from sklearn.tree import DecisionTreeClassifier #for using Decision Tree Algoithm\n",
    "from sklearn.ensemble import RandomForestClassifier #for using Random Forest Algoithm"
   ]
  },
  {
   "cell_type": "code",
   "execution_count": 19,
   "id": "573c44d3",
   "metadata": {},
   "outputs": [],
   "source": [
    "# importing necessary libraries for checking the model accuracy\n",
    "from sklearn.metrics import confusion_matrix\n",
    "from sklearn.metrics import accuracy_score\n",
    "from sklearn.metrics import f1_score"
   ]
  },
  {
   "cell_type": "markdown",
   "id": "36e789b3",
   "metadata": {},
   "source": [
    "# 1. Logistic Regression"
   ]
  },
  {
   "cell_type": "code",
   "execution_count": 20,
   "id": "0aed8105",
   "metadata": {},
   "outputs": [],
   "source": [
    "logitreg = LogisticRegression(max_iter = 700)\n",
    "logitreg.fit(X_train,y_train) \n",
    "y_predict = logitreg.predict(X_test)"
   ]
  },
  {
   "cell_type": "code",
   "execution_count": 21,
   "id": "1dcc5211",
   "metadata": {},
   "outputs": [
    {
     "name": "stdout",
     "output_type": "stream",
     "text": [
      "0.9991796554552912\n"
     ]
    },
    {
     "data": {
      "text/plain": [
       "array([[1257,    0],\n",
       "       [   2, 1179]], dtype=int64)"
      ]
     },
     "execution_count": 21,
     "metadata": {},
     "output_type": "execute_result"
    }
   ],
   "source": [
    "print(accuracy_score(y_test,y_predict))\n",
    "confusion_matrix(y_test,y_predict)"
   ]
  },
  {
   "cell_type": "code",
   "execution_count": 22,
   "id": "72061493",
   "metadata": {},
   "outputs": [
    {
     "data": {
      "text/plain": [
       "0.9991796554552912"
      ]
     },
     "execution_count": 22,
     "metadata": {},
     "output_type": "execute_result"
    }
   ],
   "source": [
    "logitreg_as = accuracy_score(y_test,y_predict)\n",
    "logitreg_as"
   ]
  },
  {
   "cell_type": "markdown",
   "id": "1d0f97b6",
   "metadata": {},
   "source": [
    "# K-Nearest Neighbours(KNN)"
   ]
  },
  {
   "cell_type": "code",
   "execution_count": 23,
   "id": "0b237806",
   "metadata": {},
   "outputs": [],
   "source": [
    "knnmodel=KNeighborsClassifier(n_neighbors=3)\n",
    "knnmodel.fit(X_train,y_train)\n",
    "y_predict1=knnmodel.predict(X_test)"
   ]
  },
  {
   "cell_type": "code",
   "execution_count": 24,
   "id": "ebcfb4a1",
   "metadata": {},
   "outputs": [
    {
     "name": "stdout",
     "output_type": "stream",
     "text": [
      "1.0\n"
     ]
    },
    {
     "data": {
      "text/plain": [
       "array([[1257,    0],\n",
       "       [   0, 1181]], dtype=int64)"
      ]
     },
     "execution_count": 24,
     "metadata": {},
     "output_type": "execute_result"
    }
   ],
   "source": [
    "print(accuracy_score(y_test,y_predict1))\n",
    "confusion_matrix(y_test,y_predict1)"
   ]
  },
  {
   "cell_type": "code",
   "execution_count": 25,
   "id": "4ef1cc65",
   "metadata": {},
   "outputs": [
    {
     "data": {
      "text/plain": [
       "1.0"
      ]
     },
     "execution_count": 25,
     "metadata": {},
     "output_type": "execute_result"
    }
   ],
   "source": [
    "logitreg_as1 = accuracy_score(y_test,y_predict1)\n",
    "logitreg_as1"
   ]
  },
  {
   "cell_type": "markdown",
   "id": "66a837a6",
   "metadata": {},
   "source": [
    "# DecisionTree"
   ]
  },
  {
   "cell_type": "code",
   "execution_count": 26,
   "id": "6e85cd83",
   "metadata": {},
   "outputs": [],
   "source": [
    "dt=DecisionTreeClassifier()\n",
    "dt.fit(X_train,y_train)\n",
    "y_predict2=dt.predict(X_test)"
   ]
  },
  {
   "cell_type": "code",
   "execution_count": 27,
   "id": "1a6f4789",
   "metadata": {},
   "outputs": [
    {
     "name": "stdout",
     "output_type": "stream",
     "text": [
      "1.0\n"
     ]
    },
    {
     "data": {
      "text/plain": [
       "array([[1257,    0],\n",
       "       [   0, 1181]], dtype=int64)"
      ]
     },
     "execution_count": 27,
     "metadata": {},
     "output_type": "execute_result"
    }
   ],
   "source": [
    "print(accuracy_score(y_test,y_predict2))\n",
    "confusion_matrix(y_test,y_predict2)"
   ]
  },
  {
   "cell_type": "code",
   "execution_count": 28,
   "id": "988dfe59",
   "metadata": {},
   "outputs": [
    {
     "data": {
      "text/plain": [
       "1.0"
      ]
     },
     "execution_count": 28,
     "metadata": {},
     "output_type": "execute_result"
    }
   ],
   "source": [
    "logitreg_as2 = accuracy_score(y_test,y_predict2)\n",
    "logitreg_as2"
   ]
  },
  {
   "cell_type": "markdown",
   "id": "737437ed",
   "metadata": {},
   "source": [
    "# Random Forest"
   ]
  },
  {
   "cell_type": "code",
   "execution_count": 29,
   "id": "03e67987",
   "metadata": {},
   "outputs": [],
   "source": [
    "rf=RandomForestClassifier()\n",
    "rf.fit(X_train,y_train)\n",
    "y_predict3=rf.predict(X_test)"
   ]
  },
  {
   "cell_type": "code",
   "execution_count": 30,
   "id": "a45e7f21",
   "metadata": {},
   "outputs": [
    {
     "name": "stdout",
     "output_type": "stream",
     "text": [
      "1.0\n"
     ]
    },
    {
     "data": {
      "text/plain": [
       "array([[1257,    0],\n",
       "       [   0, 1181]], dtype=int64)"
      ]
     },
     "execution_count": 30,
     "metadata": {},
     "output_type": "execute_result"
    }
   ],
   "source": [
    "print(accuracy_score(y_test,y_predict3))\n",
    "confusion_matrix(y_test,y_predict3)"
   ]
  },
  {
   "cell_type": "code",
   "execution_count": 31,
   "id": "58bb2281",
   "metadata": {},
   "outputs": [
    {
     "data": {
      "text/plain": [
       "1.0"
      ]
     },
     "execution_count": 31,
     "metadata": {},
     "output_type": "execute_result"
    }
   ],
   "source": [
    "logitreg_as3 = accuracy_score(y_test,y_predict3)\n",
    "logitreg_as3"
   ]
  },
  {
   "cell_type": "markdown",
   "id": "ec73409c",
   "metadata": {},
   "source": [
    "# Support Vector Machine (SVM)"
   ]
  },
  {
   "cell_type": "code",
   "execution_count": 32,
   "id": "64f8deb7",
   "metadata": {},
   "outputs": [],
   "source": [
    "svm_model = SVC(kernel = 'rbf',C=30,gamma='auto') \n",
    "svm_model.fit(X_train,y_train) \n",
    "y_predict4 = svm_model.predict(X_test) "
   ]
  },
  {
   "cell_type": "code",
   "execution_count": 33,
   "id": "93299e39",
   "metadata": {},
   "outputs": [
    {
     "name": "stdout",
     "output_type": "stream",
     "text": [
      "1.0\n"
     ]
    },
    {
     "data": {
      "text/plain": [
       "array([[1257,    0],\n",
       "       [   0, 1181]], dtype=int64)"
      ]
     },
     "execution_count": 33,
     "metadata": {},
     "output_type": "execute_result"
    }
   ],
   "source": [
    "print(accuracy_score(y_test,y_predict3))\n",
    "confusion_matrix(y_test,y_predict4)"
   ]
  },
  {
   "cell_type": "code",
   "execution_count": 34,
   "id": "333658fc",
   "metadata": {},
   "outputs": [
    {
     "data": {
      "text/plain": [
       "1.0"
      ]
     },
     "execution_count": 34,
     "metadata": {},
     "output_type": "execute_result"
    }
   ],
   "source": [
    "logitreg_as4 = accuracy_score(y_test,y_predict4)\n",
    "logitreg_as4"
   ]
  },
  {
   "cell_type": "markdown",
   "id": "f2149323",
   "metadata": {},
   "source": [
    "# Naive Bayes"
   ]
  },
  {
   "cell_type": "markdown",
   "id": "7a57f98f",
   "metadata": {},
   "source": [
    "Gaussian NB"
   ]
  },
  {
   "cell_type": "code",
   "execution_count": 35,
   "id": "c4d6ea2b",
   "metadata": {},
   "outputs": [],
   "source": [
    "from sklearn.naive_bayes import GaussianNB\n",
    "classifier=GaussianNB()\n",
    "classifier.fit(X_train,y_train)\n",
    "y_predict5 = classifier.predict(X_test) "
   ]
  },
  {
   "cell_type": "code",
   "execution_count": 36,
   "id": "e42bb36a",
   "metadata": {},
   "outputs": [
    {
     "name": "stdout",
     "output_type": "stream",
     "text": [
      "0.9487284659557014\n"
     ]
    },
    {
     "data": {
      "text/plain": [
       "array([[1133,  124],\n",
       "       [   1, 1180]], dtype=int64)"
      ]
     },
     "execution_count": 36,
     "metadata": {},
     "output_type": "execute_result"
    }
   ],
   "source": [
    "print(accuracy_score(y_test,y_predict5))\n",
    "confusion_matrix(y_test,y_predict5)"
   ]
  },
  {
   "cell_type": "code",
   "execution_count": 37,
   "id": "203e137b",
   "metadata": {},
   "outputs": [
    {
     "data": {
      "text/plain": [
       "0.9487284659557014"
      ]
     },
     "execution_count": 37,
     "metadata": {},
     "output_type": "execute_result"
    }
   ],
   "source": [
    "logitreg_as5 = accuracy_score(y_test,y_predict5)\n",
    "logitreg_as5"
   ]
  },
  {
   "cell_type": "markdown",
   "id": "d51ea299",
   "metadata": {},
   "source": [
    "Bernoulli NB"
   ]
  },
  {
   "cell_type": "code",
   "execution_count": 38,
   "id": "cf8d862d",
   "metadata": {},
   "outputs": [],
   "source": [
    "from sklearn.naive_bayes import BernoulliNB\n",
    "classifier1=BernoulliNB()\n",
    "classifier1.fit(X_train,y_train)\n",
    "y_predict6 = classifier1.predict(X_test) "
   ]
  },
  {
   "cell_type": "code",
   "execution_count": 39,
   "id": "5c40b944",
   "metadata": {},
   "outputs": [
    {
     "data": {
      "text/plain": [
       "0.9339622641509434"
      ]
     },
     "execution_count": 39,
     "metadata": {},
     "output_type": "execute_result"
    }
   ],
   "source": [
    "logitreg_as6 = accuracy_score(y_test,y_predict6)\n",
    "logitreg_as6"
   ]
  },
  {
   "cell_type": "markdown",
   "id": "333dbd0a",
   "metadata": {},
   "source": [
    "# Comparison of all models"
   ]
  },
  {
   "cell_type": "code",
   "execution_count": 40,
   "id": "7278a808",
   "metadata": {},
   "outputs": [
    {
     "data": {
      "text/plain": [
       "Text(0.5, 1.0, 'Model Comparison - Model Accuracy')"
      ]
     },
     "execution_count": 40,
     "metadata": {},
     "output_type": "execute_result"
    },
    {
     "data": {
      "image/png": "[encoded data removed]",
      "text/plain": [
       "<Figure size 720x720 with 1 Axes>"
      ]
     },
     "metadata": {
      "needs_background": "light"
     },
     "output_type": "display_data"
    }
   ],
   "source": [
    "plt.style.use(\"fast\")\n",
    "x = [\"LogisticRegression\",\"KNeighbors\",\"Decision Tree\",\"RandomForest\",\"SVM\",\"Gaussian\",\"Bernoulli\"]\n",
    "\n",
    "y = [logitreg_as,logitreg_as1,logitreg_as2,logitreg_as3,logitreg_as4,logitreg_as5,logitreg_as6]\n",
    "\n",
    "fig, ax = plt.subplots(figsize=(10,10))\n",
    "sns.barplot(x=x,y=y, palette=\"Spectral\");\n",
    "plt.xlabel(\"Models\")\n",
    "plt.ylabel(\"Model Accuracy\")\n",
    "plt.xticks(rotation=10)\n",
    "plt.title(\"Model Comparison - Model Accuracy\")\n"
   ]
  },
  {
   "cell_type": "markdown",
   "id": "2ab299a0",
   "metadata": {},
   "source": [
    "All models except two naive bayes models are giving 100% accuracy. Among two naive bayes GaussianNB performed slightly better"
   ]
  }
 ],
 "metadata": {
  "kernelspec": {
   "display_name": "Python 3",
   "language": "python",
   "name": "python3"
  },
  "language_info": {
   "codemirror_mode": {
    "name": "ipython",
    "version": 3
   },
   "file_extension": ".py",
   "mimetype": "text/x-python",
   "name": "python",
   "nbconvert_exporter": "python",
   "pygments_lexer": "ipython3",
   "version": "3.8.8"
  }
 },
 "nbformat": 4,
 "nbformat_minor": 5
}
