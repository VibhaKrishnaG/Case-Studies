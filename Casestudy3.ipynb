{
 "cells": [
  {
   "cell_type": "markdown",
   "id": "b71872bd",
   "metadata": {},
   "source": [
    "# Case Study on Correlation and Regression\n",
    "\n"
   ]
  },
  {
   "cell_type": "code",
   "execution_count": 1,
   "id": "2a69ee3e",
   "metadata": {},
   "outputs": [],
   "source": [
    "import pandas as pd\n",
    "import numpy as np\n",
    "import seaborn as sns\n",
    "import matplotlib.pyplot as plt"
   ]
  },
  {
   "cell_type": "code",
   "execution_count": 2,
   "id": "67147e1e",
   "metadata": {},
   "outputs": [],
   "source": [
    "#importing dataset to python\n",
    "data = pd.read_csv(\"Add_sales_data_2018.csv\")"
   ]
  },
  {
   "cell_type": "code",
   "execution_count": 3,
   "id": "cbe65982",
   "metadata": {},
   "outputs": [
    {
     "data": {
      "text/html": [
       "<div>\n",
       "<style scoped>\n",
       "    .dataframe tbody tr th:only-of-type {\n",
       "        vertical-align: middle;\n",
       "    }\n",
       "\n",
       "    .dataframe tbody tr th {\n",
       "        vertical-align: top;\n",
       "    }\n",
       "\n",
       "    .dataframe thead th {\n",
       "        text-align: right;\n",
       "    }\n",
       "</style>\n",
       "<table border=\"1\" class=\"dataframe\">\n",
       "  <thead>\n",
       "    <tr style=\"text-align: right;\">\n",
       "      <th></th>\n",
       "      <th>Date</th>\n",
       "      <th>Add1(in Thousands)</th>\n",
       "      <th>Add2(in Thousands)</th>\n",
       "      <th>Add3(in Thousands)</th>\n",
       "      <th>Add4(in Thousands)</th>\n",
       "      <th>Add5(in Thousands)</th>\n",
       "      <th>Profit(in Thousands)</th>\n",
       "    </tr>\n",
       "  </thead>\n",
       "  <tbody>\n",
       "    <tr>\n",
       "      <th>0</th>\n",
       "      <td>2018-10-08</td>\n",
       "      <td>208.00</td>\n",
       "      <td>222.25</td>\n",
       "      <td>206.85</td>\n",
       "      <td>216.00</td>\n",
       "      <td>215.15</td>\n",
       "      <td>4093.065</td>\n",
       "    </tr>\n",
       "    <tr>\n",
       "      <th>1</th>\n",
       "      <td>2018-10-05</td>\n",
       "      <td>217.00</td>\n",
       "      <td>218.60</td>\n",
       "      <td>205.90</td>\n",
       "      <td>210.25</td>\n",
       "      <td>209.20</td>\n",
       "      <td>4042.448</td>\n",
       "    </tr>\n",
       "    <tr>\n",
       "      <th>2</th>\n",
       "      <td>2018-10-04</td>\n",
       "      <td>223.50</td>\n",
       "      <td>227.80</td>\n",
       "      <td>216.15</td>\n",
       "      <td>217.25</td>\n",
       "      <td>218.20</td>\n",
       "      <td>4213.819</td>\n",
       "    </tr>\n",
       "    <tr>\n",
       "      <th>3</th>\n",
       "      <td>2018-10-03</td>\n",
       "      <td>230.00</td>\n",
       "      <td>237.50</td>\n",
       "      <td>225.75</td>\n",
       "      <td>226.45</td>\n",
       "      <td>227.60</td>\n",
       "      <td>4391.665</td>\n",
       "    </tr>\n",
       "    <tr>\n",
       "      <th>4</th>\n",
       "      <td>2018-10-01</td>\n",
       "      <td>234.55</td>\n",
       "      <td>234.60</td>\n",
       "      <td>221.05</td>\n",
       "      <td>230.30</td>\n",
       "      <td>230.90</td>\n",
       "      <td>4350.683</td>\n",
       "    </tr>\n",
       "  </tbody>\n",
       "</table>\n",
       "</div>"
      ],
      "text/plain": [
       "         Date  Add1(in Thousands)  Add2(in Thousands)  Add3(in Thousands)  \\\n",
       "0  2018-10-08              208.00              222.25              206.85   \n",
       "1  2018-10-05              217.00              218.60              205.90   \n",
       "2  2018-10-04              223.50              227.80              216.15   \n",
       "3  2018-10-03              230.00              237.50              225.75   \n",
       "4  2018-10-01              234.55              234.60              221.05   \n",
       "\n",
       "   Add4(in Thousands)  Add5(in Thousands)  Profit(in Thousands)  \n",
       "0              216.00              215.15              4093.065  \n",
       "1              210.25              209.20              4042.448  \n",
       "2              217.25              218.20              4213.819  \n",
       "3              226.45              227.60              4391.665  \n",
       "4              230.30              230.90              4350.683  "
      ]
     },
     "execution_count": 3,
     "metadata": {},
     "output_type": "execute_result"
    }
   ],
   "source": [
    "data.head()"
   ]
  },
  {
   "cell_type": "code",
   "execution_count": 4,
   "id": "638fe90e",
   "metadata": {},
   "outputs": [
    {
     "data": {
      "text/plain": [
       "(205, 7)"
      ]
     },
     "execution_count": 4,
     "metadata": {},
     "output_type": "execute_result"
    }
   ],
   "source": [
    "data.shape"
   ]
  },
  {
   "cell_type": "code",
   "execution_count": 5,
   "id": "ae30a8d5",
   "metadata": {},
   "outputs": [
    {
     "data": {
      "text/plain": [
       "Date                    0\n",
       "Add1(in Thousands)      0\n",
       "Add2(in Thousands)      0\n",
       "Add3(in Thousands)      0\n",
       "Add4(in Thousands)      0\n",
       "Add5(in Thousands)      0\n",
       "Profit(in Thousands)    0\n",
       "dtype: int64"
      ]
     },
     "execution_count": 5,
     "metadata": {},
     "output_type": "execute_result"
    }
   ],
   "source": [
    "#for checking the null values\n",
    "data.isna().sum()"
   ]
  },
  {
   "cell_type": "code",
   "execution_count": 6,
   "id": "c8a86cd4",
   "metadata": {},
   "outputs": [
    {
     "data": {
      "text/html": [
       "<div>\n",
       "<style scoped>\n",
       "    .dataframe tbody tr th:only-of-type {\n",
       "        vertical-align: middle;\n",
       "    }\n",
       "\n",
       "    .dataframe tbody tr th {\n",
       "        vertical-align: top;\n",
       "    }\n",
       "\n",
       "    .dataframe thead th {\n",
       "        text-align: right;\n",
       "    }\n",
       "</style>\n",
       "<table border=\"1\" class=\"dataframe\">\n",
       "  <thead>\n",
       "    <tr style=\"text-align: right;\">\n",
       "      <th></th>\n",
       "      <th>Add1(in Thousands)</th>\n",
       "      <th>Add2(in Thousands)</th>\n",
       "      <th>Add3(in Thousands)</th>\n",
       "      <th>Add4(in Thousands)</th>\n",
       "      <th>Add5(in Thousands)</th>\n",
       "      <th>Profit(in Thousands)</th>\n",
       "    </tr>\n",
       "  </thead>\n",
       "  <tbody>\n",
       "    <tr>\n",
       "      <th>count</th>\n",
       "      <td>205.000000</td>\n",
       "      <td>205.000000</td>\n",
       "      <td>205.000000</td>\n",
       "      <td>205.000000</td>\n",
       "      <td>205.000000</td>\n",
       "      <td>205.000000</td>\n",
       "    </tr>\n",
       "    <tr>\n",
       "      <th>mean</th>\n",
       "      <td>267.577561</td>\n",
       "      <td>271.722439</td>\n",
       "      <td>262.990732</td>\n",
       "      <td>267.223902</td>\n",
       "      <td>267.152683</td>\n",
       "      <td>5059.630234</td>\n",
       "    </tr>\n",
       "    <tr>\n",
       "      <th>std</th>\n",
       "      <td>26.219588</td>\n",
       "      <td>25.914939</td>\n",
       "      <td>26.126704</td>\n",
       "      <td>26.238832</td>\n",
       "      <td>26.215360</td>\n",
       "      <td>486.910414</td>\n",
       "    </tr>\n",
       "    <tr>\n",
       "      <th>min</th>\n",
       "      <td>208.000000</td>\n",
       "      <td>218.600000</td>\n",
       "      <td>205.900000</td>\n",
       "      <td>210.250000</td>\n",
       "      <td>209.200000</td>\n",
       "      <td>4042.448000</td>\n",
       "    </tr>\n",
       "    <tr>\n",
       "      <th>25%</th>\n",
       "      <td>244.000000</td>\n",
       "      <td>248.500000</td>\n",
       "      <td>240.300000</td>\n",
       "      <td>243.050000</td>\n",
       "      <td>243.000000</td>\n",
       "      <td>4617.695000</td>\n",
       "    </tr>\n",
       "    <tr>\n",
       "      <th>50%</th>\n",
       "      <td>269.700000</td>\n",
       "      <td>274.200000</td>\n",
       "      <td>263.250000</td>\n",
       "      <td>268.900000</td>\n",
       "      <td>268.350000</td>\n",
       "      <td>5088.455000</td>\n",
       "    </tr>\n",
       "    <tr>\n",
       "      <th>75%</th>\n",
       "      <td>284.400000</td>\n",
       "      <td>288.800000</td>\n",
       "      <td>280.900000</td>\n",
       "      <td>284.500000</td>\n",
       "      <td>284.450000</td>\n",
       "      <td>5387.438000</td>\n",
       "    </tr>\n",
       "    <tr>\n",
       "      <th>max</th>\n",
       "      <td>327.700000</td>\n",
       "      <td>328.750000</td>\n",
       "      <td>321.650000</td>\n",
       "      <td>325.950000</td>\n",
       "      <td>325.750000</td>\n",
       "      <td>6137.800000</td>\n",
       "    </tr>\n",
       "  </tbody>\n",
       "</table>\n",
       "</div>"
      ],
      "text/plain": [
       "       Add1(in Thousands)  Add2(in Thousands)  Add3(in Thousands)  \\\n",
       "count          205.000000          205.000000          205.000000   \n",
       "mean           267.577561          271.722439          262.990732   \n",
       "std             26.219588           25.914939           26.126704   \n",
       "min            208.000000          218.600000          205.900000   \n",
       "25%            244.000000          248.500000          240.300000   \n",
       "50%            269.700000          274.200000          263.250000   \n",
       "75%            284.400000          288.800000          280.900000   \n",
       "max            327.700000          328.750000          321.650000   \n",
       "\n",
       "       Add4(in Thousands)  Add5(in Thousands)  Profit(in Thousands)  \n",
       "count          205.000000          205.000000            205.000000  \n",
       "mean           267.223902          267.152683           5059.630234  \n",
       "std             26.238832           26.215360            486.910414  \n",
       "min            210.250000          209.200000           4042.448000  \n",
       "25%            243.050000          243.000000           4617.695000  \n",
       "50%            268.900000          268.350000           5088.455000  \n",
       "75%            284.500000          284.450000           5387.438000  \n",
       "max            325.950000          325.750000           6137.800000  "
      ]
     },
     "execution_count": 6,
     "metadata": {},
     "output_type": "execute_result"
    }
   ],
   "source": [
    "#to describe the dataset using measures of central tendency\n",
    "data.describe()"
   ]
  },
  {
   "cell_type": "markdown",
   "id": "565881cc",
   "metadata": {},
   "source": [
    "# 1. First of all, check whether there is any relationship between the amount spent for advertising through five different companies and profit generated."
   ]
  },
  {
   "cell_type": "code",
   "execution_count": 7,
   "id": "c93b2fad",
   "metadata": {},
   "outputs": [
    {
     "data": {
      "text/html": [
       "<div>\n",
       "<style scoped>\n",
       "    .dataframe tbody tr th:only-of-type {\n",
       "        vertical-align: middle;\n",
       "    }\n",
       "\n",
       "    .dataframe tbody tr th {\n",
       "        vertical-align: top;\n",
       "    }\n",
       "\n",
       "    .dataframe thead th {\n",
       "        text-align: right;\n",
       "    }\n",
       "</style>\n",
       "<table border=\"1\" class=\"dataframe\">\n",
       "  <thead>\n",
       "    <tr style=\"text-align: right;\">\n",
       "      <th></th>\n",
       "      <th>Add1(in Thousands)</th>\n",
       "      <th>Add2(in Thousands)</th>\n",
       "      <th>Add3(in Thousands)</th>\n",
       "      <th>Add4(in Thousands)</th>\n",
       "      <th>Add5(in Thousands)</th>\n",
       "      <th>Profit(in Thousands)</th>\n",
       "    </tr>\n",
       "  </thead>\n",
       "  <tbody>\n",
       "    <tr>\n",
       "      <th>Add1(in Thousands)</th>\n",
       "      <td>1.000000</td>\n",
       "      <td>0.990976</td>\n",
       "      <td>0.986274</td>\n",
       "      <td>0.976365</td>\n",
       "      <td>0.976716</td>\n",
       "      <td>0.991975</td>\n",
       "    </tr>\n",
       "    <tr>\n",
       "      <th>Add2(in Thousands)</th>\n",
       "      <td>0.990976</td>\n",
       "      <td>1.000000</td>\n",
       "      <td>0.987990</td>\n",
       "      <td>0.989921</td>\n",
       "      <td>0.990285</td>\n",
       "      <td>0.999145</td>\n",
       "    </tr>\n",
       "    <tr>\n",
       "      <th>Add3(in Thousands)</th>\n",
       "      <td>0.986274</td>\n",
       "      <td>0.987990</td>\n",
       "      <td>1.000000</td>\n",
       "      <td>0.991343</td>\n",
       "      <td>0.991908</td>\n",
       "      <td>0.993389</td>\n",
       "    </tr>\n",
       "    <tr>\n",
       "      <th>Add4(in Thousands)</th>\n",
       "      <td>0.976365</td>\n",
       "      <td>0.989921</td>\n",
       "      <td>0.991343</td>\n",
       "      <td>1.000000</td>\n",
       "      <td>0.999699</td>\n",
       "      <td>0.993346</td>\n",
       "    </tr>\n",
       "    <tr>\n",
       "      <th>Add5(in Thousands)</th>\n",
       "      <td>0.976716</td>\n",
       "      <td>0.990285</td>\n",
       "      <td>0.991908</td>\n",
       "      <td>0.999699</td>\n",
       "      <td>1.000000</td>\n",
       "      <td>0.993710</td>\n",
       "    </tr>\n",
       "    <tr>\n",
       "      <th>Profit(in Thousands)</th>\n",
       "      <td>0.991975</td>\n",
       "      <td>0.999145</td>\n",
       "      <td>0.993389</td>\n",
       "      <td>0.993346</td>\n",
       "      <td>0.993710</td>\n",
       "      <td>1.000000</td>\n",
       "    </tr>\n",
       "  </tbody>\n",
       "</table>\n",
       "</div>"
      ],
      "text/plain": [
       "                      Add1(in Thousands)  Add2(in Thousands)  \\\n",
       "Add1(in Thousands)              1.000000            0.990976   \n",
       "Add2(in Thousands)              0.990976            1.000000   \n",
       "Add3(in Thousands)              0.986274            0.987990   \n",
       "Add4(in Thousands)              0.976365            0.989921   \n",
       "Add5(in Thousands)              0.976716            0.990285   \n",
       "Profit(in Thousands)            0.991975            0.999145   \n",
       "\n",
       "                      Add3(in Thousands)  Add4(in Thousands)  \\\n",
       "Add1(in Thousands)              0.986274            0.976365   \n",
       "Add2(in Thousands)              0.987990            0.989921   \n",
       "Add3(in Thousands)              1.000000            0.991343   \n",
       "Add4(in Thousands)              0.991343            1.000000   \n",
       "Add5(in Thousands)              0.991908            0.999699   \n",
       "Profit(in Thousands)            0.993389            0.993346   \n",
       "\n",
       "                      Add5(in Thousands)  Profit(in Thousands)  \n",
       "Add1(in Thousands)              0.976716              0.991975  \n",
       "Add2(in Thousands)              0.990285              0.999145  \n",
       "Add3(in Thousands)              0.991908              0.993389  \n",
       "Add4(in Thousands)              0.999699              0.993346  \n",
       "Add5(in Thousands)              1.000000              0.993710  \n",
       "Profit(in Thousands)            0.993710              1.000000  "
      ]
     },
     "execution_count": 7,
     "metadata": {},
     "output_type": "execute_result"
    }
   ],
   "source": [
    "#finding the correlation between values\n",
    "data.corr()"
   ]
  },
  {
   "cell_type": "code",
   "execution_count": 8,
   "id": "b91e1646",
   "metadata": {},
   "outputs": [
    {
     "data": {
      "text/plain": [
       "<AxesSubplot:>"
      ]
     },
     "execution_count": 8,
     "metadata": {},
     "output_type": "execute_result"
    },
    {
     "data": {
      "image/png": "[encoded data removed]",
      "text/plain": [
       "<Figure size 720x360 with 2 Axes>"
      ]
     },
     "metadata": {
      "needs_background": "light"
     },
     "output_type": "display_data"
    }
   ],
   "source": [
    "#plotting the correlation matrix\n",
    "corrmatrix = data.corr()\n",
    "#using heatmap \n",
    "plt.subplots(figsize=(10,5))\n",
    "sns.heatmap(corrmatrix,vmin = 0.98, vmax = 1, annot= True, cmap='winter')"
   ]
  },
  {
   "cell_type": "code",
   "execution_count": 9,
   "id": "3daec0ba",
   "metadata": {},
   "outputs": [],
   "source": [
    "#all the values are around 1, which shows that there is high correlation with profit."
   ]
  },
  {
   "cell_type": "markdown",
   "id": "963eed3c",
   "metadata": {},
   "source": [
    "# 2. Build a regression model to predict the profit from the given data and comment your findings on it."
   ]
  },
  {
   "cell_type": "code",
   "execution_count": 10,
   "id": "2ed17eee",
   "metadata": {},
   "outputs": [
    {
     "data": {
      "text/plain": [
       "Index(['Date', 'Add1(in Thousands)', 'Add2(in Thousands)',\n",
       "       'Add3(in Thousands)', 'Add4(in Thousands)', 'Add5(in Thousands)',\n",
       "       'Profit(in Thousands)'],\n",
       "      dtype='object')"
      ]
     },
     "execution_count": 10,
     "metadata": {},
     "output_type": "execute_result"
    }
   ],
   "source": [
    "data.columns"
   ]
  },
  {
   "cell_type": "code",
   "execution_count": 11,
   "id": "2a59e0cf",
   "metadata": {},
   "outputs": [],
   "source": [
    "data1 = data.drop(['Date'],axis=1)"
   ]
  },
  {
   "cell_type": "code",
   "execution_count": 12,
   "id": "98612a76",
   "metadata": {},
   "outputs": [
    {
     "data": {
      "text/plain": [
       "Index(['Add1(in Thousands)', 'Add2(in Thousands)', 'Add3(in Thousands)',\n",
       "       'Add4(in Thousands)', 'Add5(in Thousands)', 'Profit(in Thousands)'],\n",
       "      dtype='object')"
      ]
     },
     "execution_count": 12,
     "metadata": {},
     "output_type": "execute_result"
    }
   ],
   "source": [
    "data1.columns"
   ]
  },
  {
   "cell_type": "code",
   "execution_count": 13,
   "id": "0fbb828d",
   "metadata": {},
   "outputs": [],
   "source": [
    "#splitting the datas into dependent and independent variables\n",
    "y = data1[\"Profit(in Thousands)\"]\n",
    "X = data1.drop([\"Profit(in Thousands)\"], axis=1)"
   ]
  },
  {
   "cell_type": "code",
   "execution_count": 14,
   "id": "cb291ab7",
   "metadata": {},
   "outputs": [
    {
     "data": {
      "text/plain": [
       "(205, 5)"
      ]
     },
     "execution_count": 14,
     "metadata": {},
     "output_type": "execute_result"
    }
   ],
   "source": [
    "X.shape"
   ]
  },
  {
   "cell_type": "code",
   "execution_count": 15,
   "id": "1535c67d",
   "metadata": {},
   "outputs": [
    {
     "data": {
      "text/plain": [
       "(205,)"
      ]
     },
     "execution_count": 15,
     "metadata": {},
     "output_type": "execute_result"
    }
   ],
   "source": [
    "y.shape"
   ]
  },
  {
   "cell_type": "code",
   "execution_count": 17,
   "id": "38e7434f",
   "metadata": {},
   "outputs": [],
   "source": [
    "#splitting the dataset into train and test values\n",
    "from sklearn.model_selection import train_test_split\n",
    "X_train, X_test, y_train, y_test = train_test_split(X,y,random_state=42,test_size=0.25)"
   ]
  },
  {
   "cell_type": "code",
   "execution_count": 18,
   "id": "61d2dd2a",
   "metadata": {},
   "outputs": [
    {
     "data": {
      "text/plain": [
       "(153, 5)"
      ]
     },
     "execution_count": 18,
     "metadata": {},
     "output_type": "execute_result"
    }
   ],
   "source": [
    "X_train.shape"
   ]
  },
  {
   "cell_type": "code",
   "execution_count": 19,
   "id": "f9170443",
   "metadata": {},
   "outputs": [],
   "source": [
    "#to build linear regression model\n",
    "from sklearn import linear_model\n",
    "lr= linear_model.LinearRegression()"
   ]
  },
  {
   "cell_type": "code",
   "execution_count": 20,
   "id": "aa0c6a94",
   "metadata": {},
   "outputs": [],
   "source": [
    "model = lr.fit(X_train,y_train)"
   ]
  },
  {
   "cell_type": "code",
   "execution_count": 21,
   "id": "210454fd",
   "metadata": {},
   "outputs": [],
   "source": [
    "predict = model.predict(X_test)"
   ]
  },
  {
   "cell_type": "code",
   "execution_count": 22,
   "id": "826241ee",
   "metadata": {},
   "outputs": [
    {
     "data": {
      "text/plain": [
       "array([4152.066, 4446.441, 5131.898, 4907.56 , 5004.282, 4623.793,\n",
       "       5384.175, 5328.025, 5175.051, 5956.323, 5780.799, 4997.719,\n",
       "       5075.858, 5784.54 , 4936.12 , 5065.652, 4190.965, 5034.726,\n",
       "       5015.536, 5134.657, 5145.131, 5421.94 , 4569.293, 4598.292,\n",
       "       4436.321, 4175.677, 5616.791, 5667.25 , 4648.834, 5717.838,\n",
       "       5001.615, 5182.368, 5017.503, 5545.013, 5013.207, 5030.451,\n",
       "       5108.626, 4760.877, 4606.34 , 4925.861, 5250.788, 5038.222,\n",
       "       5491.792, 5019.997, 4647.356, 4486.38 , 4435.174, 5300.437,\n",
       "       5425.19 , 4482.183, 4193.095, 6062.457])"
      ]
     },
     "execution_count": 22,
     "metadata": {},
     "output_type": "execute_result"
    }
   ],
   "source": [
    "predict"
   ]
  },
  {
   "cell_type": "code",
   "execution_count": 23,
   "id": "d2d254d1",
   "metadata": {},
   "outputs": [],
   "source": [
    "#mean square error is present in metrix class\n",
    "from sklearn.metrics import mean_squared_error"
   ]
  },
  {
   "cell_type": "code",
   "execution_count": 25,
   "id": "ea06b7aa",
   "metadata": {},
   "outputs": [
    {
     "name": "stdout",
     "output_type": "stream",
     "text": [
      "The mean squared error is: 8.11273293080854e-25\n"
     ]
    }
   ],
   "source": [
    "print(\"The mean squared error is:\", mean_squared_error(y_test,predict))"
   ]
  },
  {
   "cell_type": "code",
   "execution_count": 26,
   "id": "26041221",
   "metadata": {},
   "outputs": [],
   "source": [
    "#The mean squared error is very close to zero, which means that this model is efficient."
   ]
  },
  {
   "cell_type": "markdown",
   "id": "5c7767e0",
   "metadata": {},
   "source": [
    "# 3. Predict the profit generated by the company, if they wish to spend the following amount for advertisement."
   ]
  },
  {
   "cell_type": "code",
   "execution_count": 27,
   "id": "e51383d7",
   "metadata": {},
   "outputs": [],
   "source": [
    "nowpro=[[290,312,309,298,320]]"
   ]
  },
  {
   "cell_type": "code",
   "execution_count": 28,
   "id": "4a240a51",
   "metadata": {},
   "outputs": [],
   "source": [
    "predpro=model.predict(nowpro)"
   ]
  },
  {
   "cell_type": "code",
   "execution_count": 30,
   "id": "45461df5",
   "metadata": {},
   "outputs": [
    {
     "data": {
      "text/plain": [
       "array([5820.06])"
      ]
     },
     "execution_count": 30,
     "metadata": {},
     "output_type": "execute_result"
    }
   ],
   "source": [
    "predpro"
   ]
  },
  {
   "cell_type": "code",
   "execution_count": 31,
   "id": "ec708807",
   "metadata": {},
   "outputs": [],
   "source": [
    "#the predicted profit for the given value is 5820.06(in thousands)\n"
   ]
  }
 ],
 "metadata": {
  "kernelspec": {
   "display_name": "Python 3",
   "language": "python",
   "name": "python3"
  },
  "language_info": {
   "codemirror_mode": {
    "name": "ipython",
    "version": 3
   },
   "file_extension": ".py",
   "mimetype": "text/x-python",
   "name": "python",
   "nbconvert_exporter": "python",
   "pygments_lexer": "ipython3",
   "version": "3.8.8"
  }
 },
 "nbformat": 4,
 "nbformat_minor": 5
}
