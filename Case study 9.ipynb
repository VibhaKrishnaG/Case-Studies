{
 "cells": [
  {
   "cell_type": "markdown",
   "id": "dd1a3832",
   "metadata": {},
   "source": [
    "# Case study on Unsupervised Learning"
   ]
  },
  {
   "cell_type": "code",
   "execution_count": 1,
   "id": "dde091e0",
   "metadata": {},
   "outputs": [],
   "source": [
    "import numpy as np\n",
    "import matplotlib.pyplot as plt\n",
    "import pandas as pd\n",
    "import seaborn as sns\n",
    "import math\n",
    "\n",
    "import warnings\n",
    "warnings.filterwarnings(\"ignore\")"
   ]
  },
  {
   "cell_type": "code",
   "execution_count": 2,
   "id": "0b3cb68e",
   "metadata": {},
   "outputs": [],
   "source": [
    "data = pd.read_csv(\"Wine.csv\")"
   ]
  },
  {
   "cell_type": "code",
   "execution_count": 3,
   "id": "8486eea7",
   "metadata": {
    "scrolled": true
   },
   "outputs": [
    {
     "data": {
      "text/html": [
       "<div>\n",
       "<style scoped>\n",
       "    .dataframe tbody tr th:only-of-type {\n",
       "        vertical-align: middle;\n",
       "    }\n",
       "\n",
       "    .dataframe tbody tr th {\n",
       "        vertical-align: top;\n",
       "    }\n",
       "\n",
       "    .dataframe thead th {\n",
       "        text-align: right;\n",
       "    }\n",
       "</style>\n",
       "<table border=\"1\" class=\"dataframe\">\n",
       "  <thead>\n",
       "    <tr style=\"text-align: right;\">\n",
       "      <th></th>\n",
       "      <th>Alcohol</th>\n",
       "      <th>Malic_Acid</th>\n",
       "      <th>Ash</th>\n",
       "      <th>Ash_Alcanity</th>\n",
       "      <th>Magnesium</th>\n",
       "      <th>Total_Phenols</th>\n",
       "      <th>Flavanoids</th>\n",
       "      <th>Nonflavanoid_Phenols</th>\n",
       "      <th>Proanthocyanins</th>\n",
       "      <th>Color_Intensity</th>\n",
       "      <th>Hue</th>\n",
       "      <th>OD280</th>\n",
       "      <th>Proline</th>\n",
       "    </tr>\n",
       "  </thead>\n",
       "  <tbody>\n",
       "    <tr>\n",
       "      <th>0</th>\n",
       "      <td>14.23</td>\n",
       "      <td>1.71</td>\n",
       "      <td>2.43</td>\n",
       "      <td>15.6</td>\n",
       "      <td>127</td>\n",
       "      <td>2.80</td>\n",
       "      <td>3.06</td>\n",
       "      <td>0.28</td>\n",
       "      <td>2.29</td>\n",
       "      <td>5.64</td>\n",
       "      <td>1.04</td>\n",
       "      <td>3.92</td>\n",
       "      <td>1065</td>\n",
       "    </tr>\n",
       "    <tr>\n",
       "      <th>1</th>\n",
       "      <td>13.20</td>\n",
       "      <td>1.78</td>\n",
       "      <td>2.14</td>\n",
       "      <td>11.2</td>\n",
       "      <td>100</td>\n",
       "      <td>2.65</td>\n",
       "      <td>2.76</td>\n",
       "      <td>0.26</td>\n",
       "      <td>1.28</td>\n",
       "      <td>4.38</td>\n",
       "      <td>1.05</td>\n",
       "      <td>3.40</td>\n",
       "      <td>1050</td>\n",
       "    </tr>\n",
       "    <tr>\n",
       "      <th>2</th>\n",
       "      <td>13.16</td>\n",
       "      <td>2.36</td>\n",
       "      <td>2.67</td>\n",
       "      <td>18.6</td>\n",
       "      <td>101</td>\n",
       "      <td>2.80</td>\n",
       "      <td>3.24</td>\n",
       "      <td>0.30</td>\n",
       "      <td>2.81</td>\n",
       "      <td>5.68</td>\n",
       "      <td>1.03</td>\n",
       "      <td>3.17</td>\n",
       "      <td>1185</td>\n",
       "    </tr>\n",
       "    <tr>\n",
       "      <th>3</th>\n",
       "      <td>14.37</td>\n",
       "      <td>1.95</td>\n",
       "      <td>2.50</td>\n",
       "      <td>16.8</td>\n",
       "      <td>113</td>\n",
       "      <td>3.85</td>\n",
       "      <td>3.49</td>\n",
       "      <td>0.24</td>\n",
       "      <td>2.18</td>\n",
       "      <td>7.80</td>\n",
       "      <td>0.86</td>\n",
       "      <td>3.45</td>\n",
       "      <td>1480</td>\n",
       "    </tr>\n",
       "    <tr>\n",
       "      <th>4</th>\n",
       "      <td>13.24</td>\n",
       "      <td>2.59</td>\n",
       "      <td>2.87</td>\n",
       "      <td>21.0</td>\n",
       "      <td>118</td>\n",
       "      <td>2.80</td>\n",
       "      <td>2.69</td>\n",
       "      <td>0.39</td>\n",
       "      <td>1.82</td>\n",
       "      <td>4.32</td>\n",
       "      <td>1.04</td>\n",
       "      <td>2.93</td>\n",
       "      <td>735</td>\n",
       "    </tr>\n",
       "    <tr>\n",
       "      <th>...</th>\n",
       "      <td>...</td>\n",
       "      <td>...</td>\n",
       "      <td>...</td>\n",
       "      <td>...</td>\n",
       "      <td>...</td>\n",
       "      <td>...</td>\n",
       "      <td>...</td>\n",
       "      <td>...</td>\n",
       "      <td>...</td>\n",
       "      <td>...</td>\n",
       "      <td>...</td>\n",
       "      <td>...</td>\n",
       "      <td>...</td>\n",
       "    </tr>\n",
       "    <tr>\n",
       "      <th>173</th>\n",
       "      <td>13.71</td>\n",
       "      <td>5.65</td>\n",
       "      <td>2.45</td>\n",
       "      <td>20.5</td>\n",
       "      <td>95</td>\n",
       "      <td>1.68</td>\n",
       "      <td>0.61</td>\n",
       "      <td>0.52</td>\n",
       "      <td>1.06</td>\n",
       "      <td>7.70</td>\n",
       "      <td>0.64</td>\n",
       "      <td>1.74</td>\n",
       "      <td>740</td>\n",
       "    </tr>\n",
       "    <tr>\n",
       "      <th>174</th>\n",
       "      <td>13.40</td>\n",
       "      <td>3.91</td>\n",
       "      <td>2.48</td>\n",
       "      <td>23.0</td>\n",
       "      <td>102</td>\n",
       "      <td>1.80</td>\n",
       "      <td>0.75</td>\n",
       "      <td>0.43</td>\n",
       "      <td>1.41</td>\n",
       "      <td>7.30</td>\n",
       "      <td>0.70</td>\n",
       "      <td>1.56</td>\n",
       "      <td>750</td>\n",
       "    </tr>\n",
       "    <tr>\n",
       "      <th>175</th>\n",
       "      <td>13.27</td>\n",
       "      <td>4.28</td>\n",
       "      <td>2.26</td>\n",
       "      <td>20.0</td>\n",
       "      <td>120</td>\n",
       "      <td>1.59</td>\n",
       "      <td>0.69</td>\n",
       "      <td>0.43</td>\n",
       "      <td>1.35</td>\n",
       "      <td>10.20</td>\n",
       "      <td>0.59</td>\n",
       "      <td>1.56</td>\n",
       "      <td>835</td>\n",
       "    </tr>\n",
       "    <tr>\n",
       "      <th>176</th>\n",
       "      <td>13.17</td>\n",
       "      <td>2.59</td>\n",
       "      <td>2.37</td>\n",
       "      <td>20.0</td>\n",
       "      <td>120</td>\n",
       "      <td>1.65</td>\n",
       "      <td>0.68</td>\n",
       "      <td>0.53</td>\n",
       "      <td>1.46</td>\n",
       "      <td>9.30</td>\n",
       "      <td>0.60</td>\n",
       "      <td>1.62</td>\n",
       "      <td>840</td>\n",
       "    </tr>\n",
       "    <tr>\n",
       "      <th>177</th>\n",
       "      <td>14.13</td>\n",
       "      <td>4.10</td>\n",
       "      <td>2.74</td>\n",
       "      <td>24.5</td>\n",
       "      <td>96</td>\n",
       "      <td>2.05</td>\n",
       "      <td>0.76</td>\n",
       "      <td>0.56</td>\n",
       "      <td>1.35</td>\n",
       "      <td>9.20</td>\n",
       "      <td>0.61</td>\n",
       "      <td>1.60</td>\n",
       "      <td>560</td>\n",
       "    </tr>\n",
       "  </tbody>\n",
       "</table>\n",
       "<p>178 rows × 13 columns</p>\n",
       "</div>"
      ],
      "text/plain": [
       "     Alcohol  Malic_Acid   Ash  Ash_Alcanity  Magnesium  Total_Phenols  \\\n",
       "0      14.23        1.71  2.43          15.6        127           2.80   \n",
       "1      13.20        1.78  2.14          11.2        100           2.65   \n",
       "2      13.16        2.36  2.67          18.6        101           2.80   \n",
       "3      14.37        1.95  2.50          16.8        113           3.85   \n",
       "4      13.24        2.59  2.87          21.0        118           2.80   \n",
       "..       ...         ...   ...           ...        ...            ...   \n",
       "173    13.71        5.65  2.45          20.5         95           1.68   \n",
       "174    13.40        3.91  2.48          23.0        102           1.80   \n",
       "175    13.27        4.28  2.26          20.0        120           1.59   \n",
       "176    13.17        2.59  2.37          20.0        120           1.65   \n",
       "177    14.13        4.10  2.74          24.5         96           2.05   \n",
       "\n",
       "     Flavanoids  Nonflavanoid_Phenols  Proanthocyanins  Color_Intensity   Hue  \\\n",
       "0          3.06                  0.28             2.29             5.64  1.04   \n",
       "1          2.76                  0.26             1.28             4.38  1.05   \n",
       "2          3.24                  0.30             2.81             5.68  1.03   \n",
       "3          3.49                  0.24             2.18             7.80  0.86   \n",
       "4          2.69                  0.39             1.82             4.32  1.04   \n",
       "..          ...                   ...              ...              ...   ...   \n",
       "173        0.61                  0.52             1.06             7.70  0.64   \n",
       "174        0.75                  0.43             1.41             7.30  0.70   \n",
       "175        0.69                  0.43             1.35            10.20  0.59   \n",
       "176        0.68                  0.53             1.46             9.30  0.60   \n",
       "177        0.76                  0.56             1.35             9.20  0.61   \n",
       "\n",
       "     OD280  Proline  \n",
       "0     3.92     1065  \n",
       "1     3.40     1050  \n",
       "2     3.17     1185  \n",
       "3     3.45     1480  \n",
       "4     2.93      735  \n",
       "..     ...      ...  \n",
       "173   1.74      740  \n",
       "174   1.56      750  \n",
       "175   1.56      835  \n",
       "176   1.62      840  \n",
       "177   1.60      560  \n",
       "\n",
       "[178 rows x 13 columns]"
      ]
     },
     "execution_count": 3,
     "metadata": {},
     "output_type": "execute_result"
    }
   ],
   "source": [
    "data"
   ]
  },
  {
   "cell_type": "code",
   "execution_count": 4,
   "id": "d0cce5de",
   "metadata": {},
   "outputs": [
    {
     "name": "stdout",
     "output_type": "stream",
     "text": [
      "<class 'pandas.core.frame.DataFrame'>\n",
      "RangeIndex: 178 entries, 0 to 177\n",
      "Data columns (total 13 columns):\n",
      " #   Column                Non-Null Count  Dtype  \n",
      "---  ------                --------------  -----  \n",
      " 0   Alcohol               178 non-null    float64\n",
      " 1   Malic_Acid            178 non-null    float64\n",
      " 2   Ash                   178 non-null    float64\n",
      " 3   Ash_Alcanity          178 non-null    float64\n",
      " 4   Magnesium             178 non-null    int64  \n",
      " 5   Total_Phenols         178 non-null    float64\n",
      " 6   Flavanoids            178 non-null    float64\n",
      " 7   Nonflavanoid_Phenols  178 non-null    float64\n",
      " 8   Proanthocyanins       178 non-null    float64\n",
      " 9   Color_Intensity       178 non-null    float64\n",
      " 10  Hue                   178 non-null    float64\n",
      " 11  OD280                 178 non-null    float64\n",
      " 12  Proline               178 non-null    int64  \n",
      "dtypes: float64(11), int64(2)\n",
      "memory usage: 18.2 KB\n"
     ]
    }
   ],
   "source": [
    "data.info()"
   ]
  },
  {
   "cell_type": "code",
   "execution_count": 5,
   "id": "b35fcf60",
   "metadata": {},
   "outputs": [
    {
     "data": {
      "text/plain": [
       "(178, 13)"
      ]
     },
     "execution_count": 5,
     "metadata": {},
     "output_type": "execute_result"
    }
   ],
   "source": [
    "data.shape"
   ]
  },
  {
   "cell_type": "code",
   "execution_count": 6,
   "id": "2c40019f",
   "metadata": {},
   "outputs": [
    {
     "data": {
      "text/plain": [
       "Alcohol                 0\n",
       "Malic_Acid              0\n",
       "Ash                     0\n",
       "Ash_Alcanity            0\n",
       "Magnesium               0\n",
       "Total_Phenols           0\n",
       "Flavanoids              0\n",
       "Nonflavanoid_Phenols    0\n",
       "Proanthocyanins         0\n",
       "Color_Intensity         0\n",
       "Hue                     0\n",
       "OD280                   0\n",
       "Proline                 0\n",
       "dtype: int64"
      ]
     },
     "execution_count": 6,
     "metadata": {},
     "output_type": "execute_result"
    }
   ],
   "source": [
    "data.isnull().sum()"
   ]
  },
  {
   "cell_type": "markdown",
   "id": "cf3bed4e",
   "metadata": {},
   "source": [
    "Thus no null values are found"
   ]
  },
  {
   "cell_type": "code",
   "execution_count": 7,
   "id": "52e0f1f1",
   "metadata": {},
   "outputs": [
    {
     "data": {
      "text/html": [
       "<div>\n",
       "<style scoped>\n",
       "    .dataframe tbody tr th:only-of-type {\n",
       "        vertical-align: middle;\n",
       "    }\n",
       "\n",
       "    .dataframe tbody tr th {\n",
       "        vertical-align: top;\n",
       "    }\n",
       "\n",
       "    .dataframe thead th {\n",
       "        text-align: right;\n",
       "    }\n",
       "</style>\n",
       "<table border=\"1\" class=\"dataframe\">\n",
       "  <thead>\n",
       "    <tr style=\"text-align: right;\">\n",
       "      <th></th>\n",
       "      <th>Alcohol</th>\n",
       "      <th>Malic_Acid</th>\n",
       "      <th>Ash</th>\n",
       "      <th>Ash_Alcanity</th>\n",
       "      <th>Magnesium</th>\n",
       "      <th>Total_Phenols</th>\n",
       "      <th>Flavanoids</th>\n",
       "      <th>Nonflavanoid_Phenols</th>\n",
       "      <th>Proanthocyanins</th>\n",
       "      <th>Color_Intensity</th>\n",
       "      <th>Hue</th>\n",
       "      <th>OD280</th>\n",
       "      <th>Proline</th>\n",
       "    </tr>\n",
       "  </thead>\n",
       "  <tbody>\n",
       "    <tr>\n",
       "      <th>count</th>\n",
       "      <td>178.000000</td>\n",
       "      <td>178.000000</td>\n",
       "      <td>178.000000</td>\n",
       "      <td>178.000000</td>\n",
       "      <td>178.000000</td>\n",
       "      <td>178.000000</td>\n",
       "      <td>178.000000</td>\n",
       "      <td>178.000000</td>\n",
       "      <td>178.000000</td>\n",
       "      <td>178.000000</td>\n",
       "      <td>178.000000</td>\n",
       "      <td>178.000000</td>\n",
       "      <td>178.000000</td>\n",
       "    </tr>\n",
       "    <tr>\n",
       "      <th>mean</th>\n",
       "      <td>13.000618</td>\n",
       "      <td>2.336348</td>\n",
       "      <td>2.366517</td>\n",
       "      <td>19.494944</td>\n",
       "      <td>99.741573</td>\n",
       "      <td>2.295112</td>\n",
       "      <td>2.029270</td>\n",
       "      <td>0.361854</td>\n",
       "      <td>1.590899</td>\n",
       "      <td>5.058090</td>\n",
       "      <td>0.957449</td>\n",
       "      <td>2.611685</td>\n",
       "      <td>746.893258</td>\n",
       "    </tr>\n",
       "    <tr>\n",
       "      <th>std</th>\n",
       "      <td>0.811827</td>\n",
       "      <td>1.117146</td>\n",
       "      <td>0.274344</td>\n",
       "      <td>3.339564</td>\n",
       "      <td>14.282484</td>\n",
       "      <td>0.625851</td>\n",
       "      <td>0.998859</td>\n",
       "      <td>0.124453</td>\n",
       "      <td>0.572359</td>\n",
       "      <td>2.318286</td>\n",
       "      <td>0.228572</td>\n",
       "      <td>0.709990</td>\n",
       "      <td>314.907474</td>\n",
       "    </tr>\n",
       "    <tr>\n",
       "      <th>min</th>\n",
       "      <td>11.030000</td>\n",
       "      <td>0.740000</td>\n",
       "      <td>1.360000</td>\n",
       "      <td>10.600000</td>\n",
       "      <td>70.000000</td>\n",
       "      <td>0.980000</td>\n",
       "      <td>0.340000</td>\n",
       "      <td>0.130000</td>\n",
       "      <td>0.410000</td>\n",
       "      <td>1.280000</td>\n",
       "      <td>0.480000</td>\n",
       "      <td>1.270000</td>\n",
       "      <td>278.000000</td>\n",
       "    </tr>\n",
       "    <tr>\n",
       "      <th>25%</th>\n",
       "      <td>12.362500</td>\n",
       "      <td>1.602500</td>\n",
       "      <td>2.210000</td>\n",
       "      <td>17.200000</td>\n",
       "      <td>88.000000</td>\n",
       "      <td>1.742500</td>\n",
       "      <td>1.205000</td>\n",
       "      <td>0.270000</td>\n",
       "      <td>1.250000</td>\n",
       "      <td>3.220000</td>\n",
       "      <td>0.782500</td>\n",
       "      <td>1.937500</td>\n",
       "      <td>500.500000</td>\n",
       "    </tr>\n",
       "    <tr>\n",
       "      <th>50%</th>\n",
       "      <td>13.050000</td>\n",
       "      <td>1.865000</td>\n",
       "      <td>2.360000</td>\n",
       "      <td>19.500000</td>\n",
       "      <td>98.000000</td>\n",
       "      <td>2.355000</td>\n",
       "      <td>2.135000</td>\n",
       "      <td>0.340000</td>\n",
       "      <td>1.555000</td>\n",
       "      <td>4.690000</td>\n",
       "      <td>0.965000</td>\n",
       "      <td>2.780000</td>\n",
       "      <td>673.500000</td>\n",
       "    </tr>\n",
       "    <tr>\n",
       "      <th>75%</th>\n",
       "      <td>13.677500</td>\n",
       "      <td>3.082500</td>\n",
       "      <td>2.557500</td>\n",
       "      <td>21.500000</td>\n",
       "      <td>107.000000</td>\n",
       "      <td>2.800000</td>\n",
       "      <td>2.875000</td>\n",
       "      <td>0.437500</td>\n",
       "      <td>1.950000</td>\n",
       "      <td>6.200000</td>\n",
       "      <td>1.120000</td>\n",
       "      <td>3.170000</td>\n",
       "      <td>985.000000</td>\n",
       "    </tr>\n",
       "    <tr>\n",
       "      <th>max</th>\n",
       "      <td>14.830000</td>\n",
       "      <td>5.800000</td>\n",
       "      <td>3.230000</td>\n",
       "      <td>30.000000</td>\n",
       "      <td>162.000000</td>\n",
       "      <td>3.880000</td>\n",
       "      <td>5.080000</td>\n",
       "      <td>0.660000</td>\n",
       "      <td>3.580000</td>\n",
       "      <td>13.000000</td>\n",
       "      <td>1.710000</td>\n",
       "      <td>4.000000</td>\n",
       "      <td>1680.000000</td>\n",
       "    </tr>\n",
       "  </tbody>\n",
       "</table>\n",
       "</div>"
      ],
      "text/plain": [
       "          Alcohol  Malic_Acid         Ash  Ash_Alcanity   Magnesium  \\\n",
       "count  178.000000  178.000000  178.000000    178.000000  178.000000   \n",
       "mean    13.000618    2.336348    2.366517     19.494944   99.741573   \n",
       "std      0.811827    1.117146    0.274344      3.339564   14.282484   \n",
       "min     11.030000    0.740000    1.360000     10.600000   70.000000   \n",
       "25%     12.362500    1.602500    2.210000     17.200000   88.000000   \n",
       "50%     13.050000    1.865000    2.360000     19.500000   98.000000   \n",
       "75%     13.677500    3.082500    2.557500     21.500000  107.000000   \n",
       "max     14.830000    5.800000    3.230000     30.000000  162.000000   \n",
       "\n",
       "       Total_Phenols  Flavanoids  Nonflavanoid_Phenols  Proanthocyanins  \\\n",
       "count     178.000000  178.000000            178.000000       178.000000   \n",
       "mean        2.295112    2.029270              0.361854         1.590899   \n",
       "std         0.625851    0.998859              0.124453         0.572359   \n",
       "min         0.980000    0.340000              0.130000         0.410000   \n",
       "25%         1.742500    1.205000              0.270000         1.250000   \n",
       "50%         2.355000    2.135000              0.340000         1.555000   \n",
       "75%         2.800000    2.875000              0.437500         1.950000   \n",
       "max         3.880000    5.080000              0.660000         3.580000   \n",
       "\n",
       "       Color_Intensity         Hue       OD280      Proline  \n",
       "count       178.000000  178.000000  178.000000   178.000000  \n",
       "mean          5.058090    0.957449    2.611685   746.893258  \n",
       "std           2.318286    0.228572    0.709990   314.907474  \n",
       "min           1.280000    0.480000    1.270000   278.000000  \n",
       "25%           3.220000    0.782500    1.937500   500.500000  \n",
       "50%           4.690000    0.965000    2.780000   673.500000  \n",
       "75%           6.200000    1.120000    3.170000   985.000000  \n",
       "max          13.000000    1.710000    4.000000  1680.000000  "
      ]
     },
     "execution_count": 7,
     "metadata": {},
     "output_type": "execute_result"
    }
   ],
   "source": [
    "#describing the data\n",
    "data.describe()"
   ]
  },
  {
   "cell_type": "code",
   "execution_count": 8,
   "id": "98addb04",
   "metadata": {},
   "outputs": [
    {
     "data": {
      "text/plain": [
       "<AxesSubplot:>"
      ]
     },
     "execution_count": 8,
     "metadata": {},
     "output_type": "execute_result"
    },
    {
     "data": {
      "image/png": "[encoded data removed]",
      "text/plain": [
       "<Figure size 864x576 with 2 Axes>"
      ]
     },
     "metadata": {
      "needs_background": "light"
     },
     "output_type": "display_data"
    }
   ],
   "source": [
    "plt.figure(figsize=(12,8))\n",
    "sns.heatmap(data.corr(),annot=True)\n",
    "#to find correlation between values"
   ]
  },
  {
   "cell_type": "markdown",
   "id": "05b1d611",
   "metadata": {},
   "source": [
    "OUTLIER DETECTION"
   ]
  },
  {
   "cell_type": "code",
   "execution_count": 9,
   "id": "886941af",
   "metadata": {},
   "outputs": [
    {
     "data": {
      "image/png": "[encoded data removed]",
      "text/plain": [
       "<Figure size 432x288 with 1 Axes>"
      ]
     },
     "metadata": {
      "needs_background": "light"
     },
     "output_type": "display_data"
    },
    {
     "data": {
      "image/png": "[encoded data removed]",
      "text/plain": [
       "<Figure size 432x288 with 1 Axes>"
      ]
     },
     "metadata": {
      "needs_background": "light"
     },
     "output_type": "display_data"
    },
    {
     "data": {
      "image/png": "[encoded data removed]",
      "text/plain": [
       "<Figure size 432x288 with 1 Axes>"
      ]
     },
     "metadata": {
      "needs_background": "light"
     },
     "output_type": "display_data"
    },
    {
     "data": {
      "image/png": "[encoded data removed]",
      "text/plain": [
       "<Figure size 432x288 with 1 Axes>"
      ]
     },
     "metadata": {
      "needs_background": "light"
     },
     "output_type": "display_data"
    },
    {
     "data": {
      "image/png": "[encoded data removed]",
      "text/plain": [
       "<Figure size 432x288 with 1 Axes>"
      ]
     },
     "metadata": {
      "needs_background": "light"
     },
     "output_type": "display_data"
    },
    {
     "data": {
      "image/png": "[encoded data removed]",
      "text/plain": [
       "<Figure size 432x288 with 1 Axes>"
      ]
     },
     "metadata": {
      "needs_background": "light"
     },
     "output_type": "display_data"
    },
    {
     "data": {
      "image/png": "[encoded data removed]",
      "text/plain": [
       "<Figure size 432x288 with 1 Axes>"
      ]
     },
     "metadata": {
      "needs_background": "light"
     },
     "output_type": "display_data"
    },
    {
     "data": {
      "image/png": "[encoded data removed]",
      "text/plain": [
       "<Figure size 432x288 with 1 Axes>"
      ]
     },
     "metadata": {
      "needs_background": "light"
     },
     "output_type": "display_data"
    },
    {
     "data": {
      "image/png": "[encoded data removed]",
      "text/plain": [
       "<Figure size 432x288 with 1 Axes>"
      ]
     },
     "metadata": {
      "needs_background": "light"
     },
     "output_type": "display_data"
    },
    {
     "data": {
      "image/png": "[encoded data removed]",
      "text/plain": [
       "<Figure size 432x288 with 1 Axes>"
      ]
     },
     "metadata": {
      "needs_background": "light"
     },
     "output_type": "display_data"
    },
    {
     "data": {
      "image/png": "[encoded data removed]",
      "text/plain": [
       "<Figure size 432x288 with 1 Axes>"
      ]
     },
     "metadata": {
      "needs_background": "light"
     },
     "output_type": "display_data"
    },
    {
     "data": {
      "image/png": "[encoded data removed]",
      "text/plain": [
       "<Figure size 432x288 with 1 Axes>"
      ]
     },
     "metadata": {
      "needs_background": "light"
     },
     "output_type": "display_data"
    },
    {
     "data": {
      "image/png": "[encoded data removed]",
      "text/plain": [
       "<Figure size 432x288 with 1 Axes>"
      ]
     },
     "metadata": {
      "needs_background": "light"
     },
     "output_type": "display_data"
    }
   ],
   "source": [
    "for i, col in enumerate(data.columns):\n",
    "    plt.figure(i)\n",
    "    sns.boxplot(data[col])"
   ]
  },
  {
   "cell_type": "code",
   "execution_count": 10,
   "id": "0b4bd2ac",
   "metadata": {},
   "outputs": [
    {
     "name": "stdout",
     "output_type": "stream",
     "text": [
      "Q1 =  1.6025\n",
      "Q3 =  3.0825\n",
      "IQR =  1.48\n",
      "upper limit =  5.3025\n",
      "lower limit  =  -0.6174999999999997\n",
      " outliers =  [5.8, 5.51, 5.65]\n"
     ]
    }
   ],
   "source": [
    "q1 = np.percentile(data['Malic_Acid'],25)\n",
    "q3 = np.percentile(data['Malic_Acid'],75)\n",
    "\n",
    "IQR = q3-q1\n",
    "\n",
    "upper_lim=q3+IQR*1.5\n",
    "lower_lim=q1-IQR*1.5\n",
    "\n",
    "outliers = []\n",
    "for i in data['Malic_Acid']:\n",
    "    if (i>upper_lim)| (i<lower_lim):\n",
    "        outliers.append(i)\n",
    "print('Q1 = ',q1)\n",
    "print('Q3 = ',q3)\n",
    "print('IQR = ',IQR)\n",
    "print('upper limit = ',upper_lim)\n",
    "print('lower limit  = ',lower_lim)\n",
    "print(' outliers = ',outliers)"
   ]
  },
  {
   "cell_type": "code",
   "execution_count": 11,
   "id": "58165791",
   "metadata": {},
   "outputs": [],
   "source": [
    "data['Malic_Acid']=np.where(data['Malic_Acid']>upper_lim,math.floor(upper_lim),\n",
    "                          np.where(data['Malic_Acid']<lower_lim,math.ceil(lower_lim),data['Malic_Acid']))"
   ]
  },
  {
   "cell_type": "code",
   "execution_count": 12,
   "id": "d60c2597",
   "metadata": {},
   "outputs": [
    {
     "name": "stdout",
     "output_type": "stream",
     "text": [
      "Q1 =  2.21\n",
      "Q3 =  2.5575\n",
      "IQR =  0.34750000000000014\n",
      "upper limit =  3.0787500000000003\n",
      "lower limit  =  1.6887499999999998\n",
      " outliers =  [3.22, 1.36, 3.23]\n"
     ]
    }
   ],
   "source": [
    "q1 = np.percentile(data['Ash'],25)\n",
    "q3 = np.percentile(data['Ash'],75)\n",
    "\n",
    "IQR = q3-q1\n",
    "\n",
    "upper_lim=q3+IQR*1.5\n",
    "lower_lim=q1-IQR*1.5\n",
    "\n",
    "outliers = []\n",
    "for i in data['Ash']:\n",
    "    if (i>upper_lim)| (i<lower_lim):\n",
    "        outliers.append(i)\n",
    "print('Q1 = ',q1)\n",
    "print('Q3 = ',q3)\n",
    "print('IQR = ',IQR)\n",
    "print('upper limit = ',upper_lim)\n",
    "print('lower limit  = ',lower_lim)\n",
    "print(' outliers = ',outliers)"
   ]
  },
  {
   "cell_type": "code",
   "execution_count": 13,
   "id": "2ae8318e",
   "metadata": {},
   "outputs": [],
   "source": [
    "data['Ash']=np.where(data['Ash']>upper_lim,math.floor(upper_lim),\n",
    "                          np.where(data['Ash']<lower_lim,math.ceil(lower_lim),data['Ash']))"
   ]
  },
  {
   "cell_type": "code",
   "execution_count": 14,
   "id": "10894b37",
   "metadata": {},
   "outputs": [
    {
     "name": "stdout",
     "output_type": "stream",
     "text": [
      "Q1 =  88.0\n",
      "Q3 =  107.0\n",
      "IQR =  19.0\n",
      "upper limit =  135.5\n",
      "lower limit  =  59.5\n",
      " outliers =  [151, 139, 136, 162]\n"
     ]
    }
   ],
   "source": [
    "q1 = np.percentile(data['Magnesium'],25)\n",
    "q3 = np.percentile(data['Magnesium'],75)\n",
    "\n",
    "IQR = q3-q1\n",
    "\n",
    "upper_lim=q3+IQR*1.5\n",
    "lower_lim=q1-IQR*1.5\n",
    "\n",
    "outliers = []\n",
    "for i in data['Magnesium']:\n",
    "    if (i>upper_lim)| (i<lower_lim):\n",
    "        outliers.append(i)\n",
    "print('Q1 = ',q1)\n",
    "print('Q3 = ',q3)\n",
    "print('IQR = ',IQR)\n",
    "print('upper limit = ',upper_lim)\n",
    "print('lower limit  = ',lower_lim)\n",
    "print(' outliers = ',outliers)"
   ]
  },
  {
   "cell_type": "code",
   "execution_count": 15,
   "id": "2f27df05",
   "metadata": {},
   "outputs": [],
   "source": [
    "data['Magnesium']=np.where(data['Magnesium']>upper_lim,math.floor(upper_lim),\n",
    "                          np.where(data['Magnesium']<lower_lim,math.ceil(lower_lim),data['Magnesium']))"
   ]
  },
  {
   "cell_type": "code",
   "execution_count": 16,
   "id": "e1cf74d3",
   "metadata": {},
   "outputs": [
    {
     "name": "stdout",
     "output_type": "stream",
     "text": [
      "Q1 =  1.25\n",
      "Q3 =  1.95\n",
      "IQR =  0.7\n",
      "upper limit =  3.0\n",
      "lower limit  =  0.20000000000000018\n",
      " outliers =  [3.28, 3.58]\n"
     ]
    }
   ],
   "source": [
    "q1 = np.percentile(data['Proanthocyanins'],25)\n",
    "q3 = np.percentile(data['Proanthocyanins'],75)\n",
    "\n",
    "IQR = q3-q1\n",
    "\n",
    "upper_lim=q3+IQR*1.5\n",
    "lower_lim=q1-IQR*1.5\n",
    "\n",
    "outliers = []\n",
    "for i in data['Proanthocyanins']:\n",
    "    if (i>upper_lim)| (i<lower_lim):\n",
    "        outliers.append(i)\n",
    "print('Q1 = ',q1)\n",
    "print('Q3 = ',q3)\n",
    "print('IQR = ',IQR)\n",
    "print('upper limit = ',upper_lim)\n",
    "print('lower limit  = ',lower_lim)\n",
    "print(' outliers = ',outliers)\n",
    "\n",
    "data['Proanthocyanins']=np.where(data['Proanthocyanins']>upper_lim,math.floor(upper_lim),\n",
    "                          np.where(data['Proanthocyanins']<lower_lim,math.ceil(lower_lim),data['Proanthocyanins']))\n"
   ]
  },
  {
   "cell_type": "code",
   "execution_count": 17,
   "id": "bfaa0e1d",
   "metadata": {},
   "outputs": [
    {
     "name": "stdout",
     "output_type": "stream",
     "text": [
      "Q1 =  3.2199999999999998\n",
      "Q3 =  6.2\n",
      "IQR =  2.9800000000000004\n",
      "upper limit =  10.670000000000002\n",
      "lower limit  =  -1.2500000000000009\n",
      " outliers =  [10.8, 13.0, 11.75, 10.68]\n"
     ]
    }
   ],
   "source": [
    "q1 = np.percentile(data['Color_Intensity'],25)\n",
    "q3 = np.percentile(data['Color_Intensity'],75)\n",
    "\n",
    "IQR = q3-q1\n",
    "\n",
    "upper_lim=q3+IQR*1.5\n",
    "lower_lim=q1-IQR*1.5\n",
    "\n",
    "outliers = []\n",
    "for i in data['Color_Intensity']:\n",
    "    if (i>upper_lim)| (i<lower_lim):\n",
    "        outliers.append(i)\n",
    "print('Q1 = ',q1)\n",
    "print('Q3 = ',q3)\n",
    "print('IQR = ',IQR)\n",
    "print('upper limit = ',upper_lim)\n",
    "print('lower limit  = ',lower_lim)\n",
    "print(' outliers = ',outliers)\n",
    "\n",
    "\n",
    "\n",
    "data['Color_Intensity']=np.where(data['Color_Intensity']>upper_lim,math.floor(upper_lim),\n",
    "                          np.where(data['Color_Intensity']<lower_lim,math.ceil(lower_lim),data['Color_Intensity']))\n"
   ]
  },
  {
   "cell_type": "code",
   "execution_count": 18,
   "id": "caeabbfc",
   "metadata": {},
   "outputs": [
    {
     "name": "stdout",
     "output_type": "stream",
     "text": [
      "Q1 =  0.7825\n",
      "Q3 =  1.12\n",
      "IQR =  0.33750000000000013\n",
      "upper limit =  1.6262500000000002\n",
      "lower limit  =  0.2762499999999998\n",
      " outliers =  [1.71]\n"
     ]
    }
   ],
   "source": [
    "q1 = np.percentile(data['Hue'],25)\n",
    "q3 = np.percentile(data['Hue'],75)\n",
    "\n",
    "IQR = q3-q1\n",
    "\n",
    "upper_lim=q3+IQR*1.5\n",
    "lower_lim=q1-IQR*1.5\n",
    "\n",
    "outliers = []\n",
    "for i in data['Hue']:\n",
    "    if (i>upper_lim)| (i<lower_lim):\n",
    "        outliers.append(i)\n",
    "print('Q1 = ',q1)\n",
    "print('Q3 = ',q3)\n",
    "print('IQR = ',IQR)\n",
    "print('upper limit = ',upper_lim)\n",
    "print('lower limit  = ',lower_lim)\n",
    "print(' outliers = ',outliers)\n",
    "\n",
    "data['Hue']=np.where(data['Hue']>upper_lim,math.floor(upper_lim),\n",
    "                          np.where(data['Hue']<lower_lim,math.ceil(lower_lim),data['Hue']))"
   ]
  },
  {
   "cell_type": "code",
   "execution_count": 19,
   "id": "96f1d04a",
   "metadata": {},
   "outputs": [
    {
     "name": "stdout",
     "output_type": "stream",
     "text": [
      "Q1 =  17.2\n",
      "Q3 =  21.5\n",
      "IQR =  4.300000000000001\n",
      "upper limit =  27.950000000000003\n",
      "lower limit  =  10.749999999999998\n",
      " outliers =  [10.6, 30.0, 28.5, 28.5]\n"
     ]
    }
   ],
   "source": [
    "q1 = np.percentile(data['Ash_Alcanity'],25)\n",
    "q3 = np.percentile(data['Ash_Alcanity'],75)\n",
    "\n",
    "IQR = q3-q1\n",
    "\n",
    "upper_lim=q3+IQR*1.5\n",
    "lower_lim=q1-IQR*1.5\n",
    "\n",
    "outliers = []\n",
    "for i in data['Ash_Alcanity']:\n",
    "    if (i>upper_lim)| (i<lower_lim):\n",
    "        outliers.append(i)\n",
    "print('Q1 = ',q1)\n",
    "print('Q3 = ',q3)\n",
    "print('IQR = ',IQR)\n",
    "print('upper limit = ',upper_lim)\n",
    "print('lower limit  = ',lower_lim)\n",
    "print(' outliers = ',outliers)"
   ]
  },
  {
   "cell_type": "code",
   "execution_count": 20,
   "id": "1cae6279",
   "metadata": {},
   "outputs": [],
   "source": [
    "data['Ash_Alcanity']=np.where(data['Ash_Alcanity']>upper_lim,math.floor(upper_lim),\n",
    "                          np.where(data['Ash_Alcanity']<lower_lim,math.ceil(lower_lim),data['Ash_Alcanity']))"
   ]
  },
  {
   "cell_type": "code",
   "execution_count": 21,
   "id": "fed364c1",
   "metadata": {},
   "outputs": [
    {
     "data": {
      "image/png": "[encoded data removed]",
      "text/plain": [
       "<Figure size 432x288 with 1 Axes>"
      ]
     },
     "metadata": {
      "needs_background": "light"
     },
     "output_type": "display_data"
    },
    {
     "data": {
      "image/png": "[encoded data removed]",
      "text/plain": [
       "<Figure size 432x288 with 1 Axes>"
      ]
     },
     "metadata": {
      "needs_background": "light"
     },
     "output_type": "display_data"
    },
    {
     "data": {
      "image/png": "[encoded data removed]",
      "text/plain": [
       "<Figure size 432x288 with 1 Axes>"
      ]
     },
     "metadata": {
      "needs_background": "light"
     },
     "output_type": "display_data"
    },
    {
     "data": {
      "image/png": "[encoded data removed]",
      "text/plain": [
       "<Figure size 432x288 with 1 Axes>"
      ]
     },
     "metadata": {
      "needs_background": "light"
     },
     "output_type": "display_data"
    },
    {
     "data": {
      "image/png": "[encoded data removed]",
      "text/plain": [
       "<Figure size 432x288 with 1 Axes>"
      ]
     },
     "metadata": {
      "needs_background": "light"
     },
     "output_type": "display_data"
    },
    {
     "data": {
      "image/png": "[encoded data removed]",
      "text/plain": [
       "<Figure size 432x288 with 1 Axes>"
      ]
     },
     "metadata": {
      "needs_background": "light"
     },
     "output_type": "display_data"
    },
    {
     "data": {
      "image/png": "[encoded data removed]",
      "text/plain": [
       "<Figure size 432x288 with 1 Axes>"
      ]
     },
     "metadata": {
      "needs_background": "light"
     },
     "output_type": "display_data"
    },
    {
     "data": {
      "image/png": "[encoded data removed]",
      "text/plain": [
       "<Figure size 432x288 with 1 Axes>"
      ]
     },
     "metadata": {
      "needs_background": "light"
     },
     "output_type": "display_data"
    },
    {
     "data": {
      "image/png": "[encoded data removed]",
      "text/plain": [
       "<Figure size 432x288 with 1 Axes>"
      ]
     },
     "metadata": {
      "needs_background": "light"
     },
     "output_type": "display_data"
    },
    {
     "data": {
      "image/png": "[encoded data removed]",
      "text/plain": [
       "<Figure size 432x288 with 1 Axes>"
      ]
     },
     "metadata": {
      "needs_background": "light"
     },
     "output_type": "display_data"
    },
    {
     "data": {
      "image/png": "[encoded data removed]",
      "text/plain": [
       "<Figure size 432x288 with 1 Axes>"
      ]
     },
     "metadata": {
      "needs_background": "light"
     },
     "output_type": "display_data"
    },
    {
     "data": {
      "image/png": "[encoded data removed]",
      "text/plain": [
       "<Figure size 432x288 with 1 Axes>"
      ]
     },
     "metadata": {
      "needs_background": "light"
     },
     "output_type": "display_data"
    },
    {
     "data": {
      "image/png": "[encoded data removed]",
      "text/plain": [
       "<Figure size 432x288 with 1 Axes>"
      ]
     },
     "metadata": {
      "needs_background": "light"
     },
     "output_type": "display_data"
    }
   ],
   "source": [
    "for i, col in enumerate(data.columns):\n",
    "    plt.figure(i)\n",
    "    sns.boxplot(data[col])"
   ]
  },
  {
   "cell_type": "markdown",
   "id": "1f87a966",
   "metadata": {},
   "source": [
    "thus outliers are handled"
   ]
  },
  {
   "cell_type": "code",
   "execution_count": 22,
   "id": "bf971284",
   "metadata": {},
   "outputs": [
    {
     "data": {
      "text/html": [
       "<div>\n",
       "<style scoped>\n",
       "    .dataframe tbody tr th:only-of-type {\n",
       "        vertical-align: middle;\n",
       "    }\n",
       "\n",
       "    .dataframe tbody tr th {\n",
       "        vertical-align: top;\n",
       "    }\n",
       "\n",
       "    .dataframe thead th {\n",
       "        text-align: right;\n",
       "    }\n",
       "</style>\n",
       "<table border=\"1\" class=\"dataframe\">\n",
       "  <thead>\n",
       "    <tr style=\"text-align: right;\">\n",
       "      <th></th>\n",
       "      <th>0</th>\n",
       "      <th>1</th>\n",
       "      <th>2</th>\n",
       "      <th>3</th>\n",
       "      <th>4</th>\n",
       "      <th>5</th>\n",
       "      <th>6</th>\n",
       "      <th>7</th>\n",
       "      <th>8</th>\n",
       "      <th>9</th>\n",
       "      <th>10</th>\n",
       "      <th>11</th>\n",
       "      <th>12</th>\n",
       "    </tr>\n",
       "  </thead>\n",
       "  <tbody>\n",
       "    <tr>\n",
       "      <th>count</th>\n",
       "      <td>178.0000</td>\n",
       "      <td>178.0000</td>\n",
       "      <td>178.0000</td>\n",
       "      <td>178.0000</td>\n",
       "      <td>178.0000</td>\n",
       "      <td>178.0000</td>\n",
       "      <td>178.0000</td>\n",
       "      <td>178.0000</td>\n",
       "      <td>178.0000</td>\n",
       "      <td>178.0000</td>\n",
       "      <td>178.0000</td>\n",
       "      <td>178.0000</td>\n",
       "      <td>178.0000</td>\n",
       "    </tr>\n",
       "    <tr>\n",
       "      <th>mean</th>\n",
       "      <td>-0.0000</td>\n",
       "      <td>-0.0000</td>\n",
       "      <td>0.0000</td>\n",
       "      <td>0.0000</td>\n",
       "      <td>0.0000</td>\n",
       "      <td>-0.0000</td>\n",
       "      <td>-0.0000</td>\n",
       "      <td>0.0000</td>\n",
       "      <td>0.0000</td>\n",
       "      <td>-0.0000</td>\n",
       "      <td>-0.0000</td>\n",
       "      <td>0.0000</td>\n",
       "      <td>-0.0000</td>\n",
       "    </tr>\n",
       "    <tr>\n",
       "      <th>std</th>\n",
       "      <td>1.0028</td>\n",
       "      <td>1.0028</td>\n",
       "      <td>1.0028</td>\n",
       "      <td>1.0028</td>\n",
       "      <td>1.0028</td>\n",
       "      <td>1.0028</td>\n",
       "      <td>1.0028</td>\n",
       "      <td>1.0028</td>\n",
       "      <td>1.0028</td>\n",
       "      <td>1.0028</td>\n",
       "      <td>1.0028</td>\n",
       "      <td>1.0028</td>\n",
       "      <td>1.0028</td>\n",
       "    </tr>\n",
       "    <tr>\n",
       "      <th>min</th>\n",
       "      <td>-2.4342</td>\n",
       "      <td>-1.4627</td>\n",
       "      <td>-2.5960</td>\n",
       "      <td>-2.6159</td>\n",
       "      <td>-2.2082</td>\n",
       "      <td>-2.1072</td>\n",
       "      <td>-1.6960</td>\n",
       "      <td>-1.8682</td>\n",
       "      <td>-2.1130</td>\n",
       "      <td>-1.6870</td>\n",
       "      <td>-2.1440</td>\n",
       "      <td>-1.8951</td>\n",
       "      <td>-1.4932</td>\n",
       "    </tr>\n",
       "    <tr>\n",
       "      <th>25%</th>\n",
       "      <td>-0.7882</td>\n",
       "      <td>-0.6669</td>\n",
       "      <td>-0.6128</td>\n",
       "      <td>-0.6996</td>\n",
       "      <td>-0.8596</td>\n",
       "      <td>-0.8855</td>\n",
       "      <td>-0.8275</td>\n",
       "      <td>-0.7401</td>\n",
       "      <td>-0.6038</td>\n",
       "      <td>-0.8126</td>\n",
       "      <td>-0.7742</td>\n",
       "      <td>-0.9522</td>\n",
       "      <td>-0.7846</td>\n",
       "    </tr>\n",
       "    <tr>\n",
       "      <th>50%</th>\n",
       "      <td>0.0610</td>\n",
       "      <td>-0.4247</td>\n",
       "      <td>-0.0295</td>\n",
       "      <td>0.0113</td>\n",
       "      <td>-0.1103</td>\n",
       "      <td>0.0960</td>\n",
       "      <td>0.1061</td>\n",
       "      <td>-0.1761</td>\n",
       "      <td>-0.0558</td>\n",
       "      <td>-0.1501</td>\n",
       "      <td>0.0523</td>\n",
       "      <td>0.2377</td>\n",
       "      <td>-0.2337</td>\n",
       "    </tr>\n",
       "    <tr>\n",
       "      <th>75%</th>\n",
       "      <td>0.8361</td>\n",
       "      <td>0.6986</td>\n",
       "      <td>0.7385</td>\n",
       "      <td>0.6294</td>\n",
       "      <td>0.5641</td>\n",
       "      <td>0.8090</td>\n",
       "      <td>0.8491</td>\n",
       "      <td>0.6095</td>\n",
       "      <td>0.6539</td>\n",
       "      <td>0.5304</td>\n",
       "      <td>0.7542</td>\n",
       "      <td>0.7886</td>\n",
       "      <td>0.7582</td>\n",
       "    </tr>\n",
       "    <tr>\n",
       "      <th>max</th>\n",
       "      <td>2.2598</td>\n",
       "      <td>2.6430</td>\n",
       "      <td>2.4592</td>\n",
       "      <td>2.3294</td>\n",
       "      <td>2.6620</td>\n",
       "      <td>2.5395</td>\n",
       "      <td>3.0628</td>\n",
       "      <td>2.4024</td>\n",
       "      <td>2.5404</td>\n",
       "      <td>2.4774</td>\n",
       "      <td>2.2486</td>\n",
       "      <td>1.9609</td>\n",
       "      <td>2.9715</td>\n",
       "    </tr>\n",
       "  </tbody>\n",
       "</table>\n",
       "</div>"
      ],
      "text/plain": [
       "             0         1         2         3         4         5         6   \\\n",
       "count  178.0000  178.0000  178.0000  178.0000  178.0000  178.0000  178.0000   \n",
       "mean    -0.0000   -0.0000    0.0000    0.0000    0.0000   -0.0000   -0.0000   \n",
       "std      1.0028    1.0028    1.0028    1.0028    1.0028    1.0028    1.0028   \n",
       "min     -2.4342   -1.4627   -2.5960   -2.6159   -2.2082   -2.1072   -1.6960   \n",
       "25%     -0.7882   -0.6669   -0.6128   -0.6996   -0.8596   -0.8855   -0.8275   \n",
       "50%      0.0610   -0.4247   -0.0295    0.0113   -0.1103    0.0960    0.1061   \n",
       "75%      0.8361    0.6986    0.7385    0.6294    0.5641    0.8090    0.8491   \n",
       "max      2.2598    2.6430    2.4592    2.3294    2.6620    2.5395    3.0628   \n",
       "\n",
       "             7         8         9         10        11        12  \n",
       "count  178.0000  178.0000  178.0000  178.0000  178.0000  178.0000  \n",
       "mean     0.0000    0.0000   -0.0000   -0.0000    0.0000   -0.0000  \n",
       "std      1.0028    1.0028    1.0028    1.0028    1.0028    1.0028  \n",
       "min     -1.8682   -2.1130   -1.6870   -2.1440   -1.8951   -1.4932  \n",
       "25%     -0.7401   -0.6038   -0.8126   -0.7742   -0.9522   -0.7846  \n",
       "50%     -0.1761   -0.0558   -0.1501    0.0523    0.2377   -0.2337  \n",
       "75%      0.6095    0.6539    0.5304    0.7542    0.7886    0.7582  \n",
       "max      2.4024    2.5404    2.4774    2.2486    1.9609    2.9715  "
      ]
     },
     "execution_count": 22,
     "metadata": {},
     "output_type": "execute_result"
    }
   ],
   "source": [
    "from sklearn.preprocessing import StandardScaler\n",
    "scaler = StandardScaler()\n",
    "sdata = scaler.fit_transform(data)\n",
    "sdata =pd.DataFrame(sdata)\n",
    "sdata.describe().round(4)"
   ]
  },
  {
   "cell_type": "markdown",
   "id": "4d54fd3c",
   "metadata": {},
   "source": [
    "# K Means Clustering"
   ]
  },
  {
   "cell_type": "code",
   "execution_count": 23,
   "id": "3cb24103",
   "metadata": {},
   "outputs": [
    {
     "data": {
      "text/plain": [
       "array([[1.71, 2.43],\n",
       "       [1.78, 2.14],\n",
       "       [2.36, 2.67],\n",
       "       [1.95, 2.5 ],\n",
       "       [2.59, 2.87],\n",
       "       [1.76, 2.45],\n",
       "       [1.87, 2.45],\n",
       "       [2.15, 2.61],\n",
       "       [1.64, 2.17],\n",
       "       [1.35, 2.27],\n",
       "       [2.16, 2.3 ],\n",
       "       [1.48, 2.32],\n",
       "       [1.73, 2.41],\n",
       "       [1.73, 2.39],\n",
       "       [1.87, 2.38],\n",
       "       [1.81, 2.7 ],\n",
       "       [1.92, 2.72],\n",
       "       [1.57, 2.62],\n",
       "       [1.59, 2.48],\n",
       "       [3.1 , 2.56],\n",
       "       [1.63, 2.28],\n",
       "       [3.8 , 2.65],\n",
       "       [1.86, 2.36],\n",
       "       [1.6 , 2.52],\n",
       "       [1.81, 2.61],\n",
       "       [2.05, 3.  ],\n",
       "       [1.77, 2.62],\n",
       "       [1.72, 2.14],\n",
       "       [1.9 , 2.8 ],\n",
       "       [1.68, 2.21],\n",
       "       [1.5 , 2.7 ],\n",
       "       [1.66, 2.36],\n",
       "       [1.83, 2.36],\n",
       "       [1.53, 2.7 ],\n",
       "       [1.8 , 2.65],\n",
       "       [1.81, 2.41],\n",
       "       [1.64, 2.84],\n",
       "       [1.65, 2.55],\n",
       "       [1.5 , 2.1 ],\n",
       "       [3.99, 2.51],\n",
       "       [1.71, 2.31],\n",
       "       [3.84, 2.12],\n",
       "       [1.89, 2.59],\n",
       "       [3.98, 2.29],\n",
       "       [1.77, 2.1 ],\n",
       "       [4.04, 2.44],\n",
       "       [3.59, 2.28],\n",
       "       [1.68, 2.12],\n",
       "       [2.02, 2.4 ],\n",
       "       [1.73, 2.27],\n",
       "       [1.73, 2.04],\n",
       "       [1.65, 2.6 ],\n",
       "       [1.75, 2.42],\n",
       "       [1.9 , 2.68],\n",
       "       [1.67, 2.25],\n",
       "       [1.73, 2.46],\n",
       "       [1.7 , 2.3 ],\n",
       "       [1.97, 2.68],\n",
       "       [1.43, 2.5 ],\n",
       "       [0.94, 2.  ],\n",
       "       [1.1 , 2.28],\n",
       "       [1.36, 2.02],\n",
       "       [1.25, 1.92],\n",
       "       [1.13, 2.16],\n",
       "       [1.45, 2.53],\n",
       "       [1.21, 2.56],\n",
       "       [1.01, 1.7 ],\n",
       "       [1.17, 1.92],\n",
       "       [0.94, 2.36],\n",
       "       [1.19, 1.75],\n",
       "       [1.61, 2.21],\n",
       "       [1.51, 2.67],\n",
       "       [1.66, 2.24],\n",
       "       [1.67, 2.6 ],\n",
       "       [1.09, 2.3 ],\n",
       "       [1.88, 1.92],\n",
       "       [0.9 , 1.71],\n",
       "       [2.89, 2.23],\n",
       "       [0.99, 1.95],\n",
       "       [3.87, 2.4 ],\n",
       "       [0.92, 2.  ],\n",
       "       [1.81, 2.2 ],\n",
       "       [1.13, 2.51],\n",
       "       [3.86, 2.32],\n",
       "       [0.89, 2.58],\n",
       "       [0.98, 2.24],\n",
       "       [1.61, 2.31],\n",
       "       [1.67, 2.62],\n",
       "       [2.06, 2.46],\n",
       "       [1.33, 2.3 ],\n",
       "       [1.83, 2.32],\n",
       "       [1.51, 2.42],\n",
       "       [1.53, 2.26],\n",
       "       [2.83, 2.22],\n",
       "       [1.99, 2.28],\n",
       "       [1.52, 2.2 ],\n",
       "       [2.12, 2.74],\n",
       "       [1.41, 1.98],\n",
       "       [1.07, 2.1 ],\n",
       "       [3.17, 2.21],\n",
       "       [2.08, 1.7 ],\n",
       "       [1.34, 1.9 ],\n",
       "       [2.45, 2.46],\n",
       "       [1.72, 1.88],\n",
       "       [1.73, 1.98],\n",
       "       [2.55, 2.27],\n",
       "       [1.73, 2.12],\n",
       "       [1.75, 2.28],\n",
       "       [1.29, 1.94],\n",
       "       [1.35, 2.7 ],\n",
       "       [3.74, 1.82],\n",
       "       [2.43, 2.17],\n",
       "       [2.68, 2.92],\n",
       "       [0.74, 2.5 ],\n",
       "       [1.39, 2.5 ],\n",
       "       [1.51, 2.2 ],\n",
       "       [1.47, 1.99],\n",
       "       [1.61, 2.19],\n",
       "       [3.43, 1.98],\n",
       "       [3.43, 2.  ],\n",
       "       [2.4 , 2.42],\n",
       "       [2.05, 3.  ],\n",
       "       [4.43, 2.73],\n",
       "       [5.  , 2.13],\n",
       "       [4.31, 2.39],\n",
       "       [2.16, 2.17],\n",
       "       [1.53, 2.29],\n",
       "       [2.13, 2.78],\n",
       "       [1.63, 2.3 ],\n",
       "       [4.3 , 2.38],\n",
       "       [1.35, 2.32],\n",
       "       [2.99, 2.4 ],\n",
       "       [2.31, 2.4 ],\n",
       "       [3.55, 2.36],\n",
       "       [1.24, 2.25],\n",
       "       [2.46, 2.2 ],\n",
       "       [4.72, 2.54],\n",
       "       [5.  , 2.64],\n",
       "       [3.59, 2.19],\n",
       "       [2.96, 2.61],\n",
       "       [2.81, 2.7 ],\n",
       "       [2.56, 2.35],\n",
       "       [3.17, 2.72],\n",
       "       [4.95, 2.35],\n",
       "       [3.88, 2.2 ],\n",
       "       [3.57, 2.15],\n",
       "       [5.04, 2.23],\n",
       "       [4.61, 2.48],\n",
       "       [3.24, 2.38],\n",
       "       [3.9 , 2.36],\n",
       "       [3.12, 2.62],\n",
       "       [2.67, 2.48],\n",
       "       [1.9 , 2.75],\n",
       "       [3.3 , 2.28],\n",
       "       [1.29, 2.1 ],\n",
       "       [5.19, 2.32],\n",
       "       [4.12, 2.38],\n",
       "       [3.03, 2.64],\n",
       "       [1.68, 2.7 ],\n",
       "       [1.67, 2.64],\n",
       "       [3.83, 2.38],\n",
       "       [3.26, 2.54],\n",
       "       [3.27, 2.58],\n",
       "       [3.45, 2.35],\n",
       "       [2.76, 2.3 ],\n",
       "       [4.36, 2.26],\n",
       "       [3.7 , 2.6 ],\n",
       "       [3.37, 2.3 ],\n",
       "       [2.58, 2.69],\n",
       "       [4.6 , 2.86],\n",
       "       [3.03, 2.32],\n",
       "       [2.39, 2.28],\n",
       "       [2.51, 2.48],\n",
       "       [5.  , 2.45],\n",
       "       [3.91, 2.48],\n",
       "       [4.28, 2.26],\n",
       "       [2.59, 2.37],\n",
       "       [4.1 , 2.74]])"
      ]
     },
     "execution_count": 23,
     "metadata": {},
     "output_type": "execute_result"
    }
   ],
   "source": [
    "X=data.iloc[:,[1,2]].values\n",
    "X"
   ]
  },
  {
   "cell_type": "code",
   "execution_count": 24,
   "id": "82f80900",
   "metadata": {},
   "outputs": [
    {
     "name": "stdout",
     "output_type": "stream",
     "text": [
      "220.88449101123598\n",
      "57.3128\n",
      "35.31822930735932\n",
      "26.052666254954573\n",
      "18.78061142770597\n",
      "15.406638251337645\n",
      "12.945679501753897\n",
      "11.334159037467709\n",
      "9.961712471424773\n",
      "8.896161059057901\n",
      "8.09359470640471\n",
      "7.377921362854413\n",
      "6.544942604559185\n",
      "6.047568632756135\n",
      "5.755204462465638\n"
     ]
    },
    {
     "data": {
      "image/png": "[encoded data removed]",
      "text/plain": [
       "<Figure size 432x288 with 1 Axes>"
      ]
     },
     "metadata": {
      "needs_background": "light"
     },
     "output_type": "display_data"
    }
   ],
   "source": [
    "from sklearn.cluster import KMeans\n",
    "wcss = []\n",
    "for i in range(1, 16):\n",
    "    kmeans = KMeans(n_clusters=i, init =\"k-means++\",random_state=42)\n",
    "    kmeans.fit(X)\n",
    "    wcss.append(kmeans.inertia_)#will give wcss value\n",
    "    print(kmeans.inertia_)\n",
    "plt.plot(range(1,16),wcss,marker = 'D')\n",
    "plt.title('the elbow method')\n",
    "plt.xlabel('number of clusters')\n",
    "plt.ylabel('wcss')\n",
    "plt.show()"
   ]
  },
  {
   "cell_type": "markdown",
   "id": "2e976e5a",
   "metadata": {},
   "source": [
    "The number of clusters is 3 from elbow method."
   ]
  },
  {
   "cell_type": "code",
   "execution_count": 25,
   "id": "629f49f8",
   "metadata": {},
   "outputs": [
    {
     "data": {
      "text/plain": [
       "numpy.ndarray"
      ]
     },
     "execution_count": 25,
     "metadata": {},
     "output_type": "execute_result"
    }
   ],
   "source": [
    "kmeans=KMeans(n_clusters=3, init='k-means++',random_state =42)\n",
    "y_kmeans = kmeans.fit_predict(X)\n",
    "type(X)"
   ]
  },
  {
   "cell_type": "code",
   "execution_count": 26,
   "id": "915b3ad8",
   "metadata": {},
   "outputs": [
    {
     "data": {
      "text/plain": [
       "<function matplotlib.pyplot.show(close=None, block=None)>"
      ]
     },
     "execution_count": 26,
     "metadata": {},
     "output_type": "execute_result"
    },
    {
     "data": {
      "image/png": "[encoded data removed]",
      "text/plain": [
       "<Figure size 432x288 with 1 Axes>"
      ]
     },
     "metadata": {
      "needs_background": "light"
     },
     "output_type": "display_data"
    }
   ],
   "source": [
    "plt.scatter(X[y_kmeans==0,0], X[y_kmeans==0,1],s =100, c='red',label='cluster 1')\n",
    "plt.scatter(X[y_kmeans==1,0], X[y_kmeans==1,1],s =100, c='blue',label='cluster 2')\n",
    "plt.scatter(X[y_kmeans==2,0], X[y_kmeans==2,1],s =100, c='cyan',label='cluster 3')\n",
    "plt.legend()\n",
    "plt.show"
   ]
  },
  {
   "cell_type": "raw",
   "id": "14b5f7e8",
   "metadata": {},
   "source": [
    "#import seaborn as sns\n",
    "#sns.pairplot(data)"
   ]
  },
  {
   "cell_type": "code",
   "execution_count": 27,
   "id": "1ea6169c",
   "metadata": {},
   "outputs": [
    {
     "name": "stdout",
     "output_type": "stream",
     "text": [
      "[0 0 1 0 1 0 0 0 0 0 0 0 0 0 0 0 0 0 0 1 0 2 0 0 0 0 0 0 0 0 0 0 0 0 0 0 0\n",
      " 0 0 2 0 2 0 2 0 2 2 0 0 0 0 0 0 0 0 0 0 0 0 0 0 0 0 0 0 0 0 0 0 0 0 0 0 0\n",
      " 0 0 0 1 0 2 0 0 0 2 0 0 0 0 0 0 0 0 0 1 0 0 0 0 0 1 0 0 1 0 0 1 0 0 0 0 2\n",
      " 1 1 0 0 0 0 0 1 1 1 0 2 2 2 0 0 0 0 2 0 1 1 2 0 1 2 2 2 1 1 1 1 2 2 2 2 2\n",
      " 1 2 1 1 0 1 0 2 2 1 0 0 2 1 1 1 1 2 2 1 1 2 1 1 1 2 2 2 1 2]\n"
     ]
    }
   ],
   "source": [
    "model_kmeans=KMeans(n_clusters=3)\n",
    "model_kmeans.fit(X)\n",
    "labels=model_kmeans.predict(X)\n",
    "print(labels)"
   ]
  },
  {
   "cell_type": "code",
   "execution_count": 28,
   "id": "d82e4270",
   "metadata": {},
   "outputs": [
    {
     "data": {
      "text/plain": [
       "<matplotlib.collections.PathCollection at 0x2683ea28e20>"
      ]
     },
     "execution_count": 28,
     "metadata": {},
     "output_type": "execute_result"
    },
    {
     "data": {
      "image/png": "[encoded data removed]",
      "text/plain": [
       "<Figure size 432x288 with 1 Axes>"
      ]
     },
     "metadata": {
      "needs_background": "light"
     },
     "output_type": "display_data"
    }
   ],
   "source": [
    "a=data['Alcohol']\n",
    "b=data['Malic_Acid']\n",
    "plt.scatter(a,b,c=labels)"
   ]
  },
  {
   "cell_type": "code",
   "execution_count": 29,
   "id": "18e0c4cf",
   "metadata": {},
   "outputs": [
    {
     "name": "stdout",
     "output_type": "stream",
     "text": [
      "[2]\n"
     ]
    }
   ],
   "source": [
    "sample=[[6,2]]\n",
    "new_label=model_kmeans.predict(sample)\n",
    "print(new_label)"
   ]
  },
  {
   "cell_type": "code",
   "execution_count": 30,
   "id": "711b8835",
   "metadata": {},
   "outputs": [],
   "source": [
    "from sklearn.metrics import silhouette_score"
   ]
  },
  {
   "cell_type": "code",
   "execution_count": 31,
   "id": "7608df0a",
   "metadata": {},
   "outputs": [
    {
     "name": "stdout",
     "output_type": "stream",
     "text": [
      "0.5437880570601157\n"
     ]
    }
   ],
   "source": [
    "ss=silhouette_score(X,y_kmeans)\n",
    "print(ss)"
   ]
  },
  {
   "cell_type": "code",
   "execution_count": 32,
   "id": "9baebdf6",
   "metadata": {},
   "outputs": [
    {
     "data": {
      "text/plain": [
       "0.08569641100667168"
      ]
     },
     "execution_count": 32,
     "metadata": {},
     "output_type": "execute_result"
    }
   ],
   "source": [
    "silhouette_score(sdata,y_kmeans)"
   ]
  },
  {
   "cell_type": "markdown",
   "id": "1f9feb41",
   "metadata": {},
   "source": [
    "Thus scaling has improved our model"
   ]
  },
  {
   "cell_type": "markdown",
   "id": "9b19c826",
   "metadata": {},
   "source": [
    "# Hierarchial clustering"
   ]
  },
  {
   "cell_type": "markdown",
   "id": "58e87fed",
   "metadata": {},
   "source": [
    "In HC we use dendrogram to find optimum number of clusters"
   ]
  },
  {
   "cell_type": "code",
   "execution_count": 33,
   "id": "71371431",
   "metadata": {},
   "outputs": [
    {
     "data": {
      "image/png": "[encoded data removed]",
      "text/plain": [
       "<Figure size 576x432 with 1 Axes>"
      ]
     },
     "metadata": {
      "needs_background": "light"
     },
     "output_type": "display_data"
    }
   ],
   "source": [
    "from scipy.cluster.hierarchy import dendrogram,linkage\n",
    "linked = linkage(data,method='ward')\n",
    "plt.figure(figsize=(8,6))\n",
    "dendrogram(linked,orientation='top',distance_sort='ascending',show_leaf_counts=True)\n",
    "plt.show()"
   ]
  },
  {
   "cell_type": "markdown",
   "id": "21a180d8",
   "metadata": {},
   "source": [
    "The longest line of dendrogram cuts three lines, thus the optimum number of cluster is 3"
   ]
  },
  {
   "cell_type": "code",
   "execution_count": 34,
   "id": "2179f772",
   "metadata": {},
   "outputs": [
    {
     "data": {
      "text/plain": [
       "array([0, 0, 0, 0, 0, 0, 0, 0, 0, 0, 0, 0, 0, 0, 0, 0, 0, 0, 0, 1, 0, 1,\n",
       "       0, 0, 0, 0, 0, 0, 0, 0, 0, 0, 0, 0, 0, 0, 0, 0, 0, 1, 0, 1, 0, 1,\n",
       "       0, 1, 1, 0, 0, 0, 0, 0, 0, 0, 0, 0, 0, 0, 0, 0, 0, 0, 0, 0, 0, 0,\n",
       "       0, 0, 0, 0, 0, 0, 0, 0, 0, 0, 0, 1, 0, 1, 0, 0, 0, 1, 0, 0, 0, 0,\n",
       "       0, 0, 0, 0, 0, 1, 0, 0, 0, 0, 0, 1, 0, 0, 0, 0, 0, 0, 0, 0, 0, 0,\n",
       "       1, 0, 0, 0, 0, 0, 0, 0, 1, 1, 0, 0, 2, 2, 2, 0, 0, 0, 0, 2, 0, 1,\n",
       "       0, 1, 0, 0, 2, 2, 1, 1, 0, 0, 1, 2, 1, 1, 2, 2, 1, 1, 1, 0, 0, 1,\n",
       "       0, 2, 1, 1, 0, 0, 1, 1, 1, 1, 1, 2, 1, 1, 0, 2, 1, 0, 0, 2, 1, 2,\n",
       "       0, 1], dtype=int64)"
      ]
     },
     "execution_count": 34,
     "metadata": {},
     "output_type": "execute_result"
    }
   ],
   "source": [
    "from sklearn.cluster import AgglomerativeClustering\n",
    "hc=AgglomerativeClustering(n_clusters=3,affinity='euclidean',linkage='ward')\n",
    "y_hc=hc.fit_predict(X)\n",
    "y_hc"
   ]
  },
  {
   "cell_type": "code",
   "execution_count": 35,
   "id": "d38c4a57",
   "metadata": {},
   "outputs": [
    {
     "data": {
      "text/plain": [
       "<function matplotlib.pyplot.show(close=None, block=None)>"
      ]
     },
     "execution_count": 35,
     "metadata": {},
     "output_type": "execute_result"
    },
    {
     "data": {
      "image/png": "[encoded data removed]",
      "text/plain": [
       "<Figure size 432x288 with 1 Axes>"
      ]
     },
     "metadata": {
      "needs_background": "light"
     },
     "output_type": "display_data"
    }
   ],
   "source": [
    "plt.scatter(X[y_hc==0,0], X[y_hc==0,1],s =100, c='red',label='cluster 1')\n",
    "plt.scatter(X[y_hc==1,0], X[y_hc==1,1],s =100, c='blue',label='cluster 2')\n",
    "plt.scatter(X[y_hc==2,0], X[y_hc==2,1],s =100, c='cyan',label='cluster 3')\n",
    "plt.legend()\n",
    "plt.show"
   ]
  },
  {
   "cell_type": "code",
   "execution_count": 36,
   "id": "2abd9b29",
   "metadata": {},
   "outputs": [
    {
     "name": "stdout",
     "output_type": "stream",
     "text": [
      "0.5828639048219969\n"
     ]
    }
   ],
   "source": [
    "ss=silhouette_score(X,y_hc)\n",
    "print(ss)"
   ]
  },
  {
   "cell_type": "code",
   "execution_count": 37,
   "id": "d3505676",
   "metadata": {},
   "outputs": [
    {
     "name": "stdout",
     "output_type": "stream",
     "text": [
      "0.06836841726454573\n"
     ]
    }
   ],
   "source": [
    "ss=silhouette_score(sdata,y_hc)\n",
    "print(ss)"
   ]
  },
  {
   "cell_type": "markdown",
   "id": "1d3d3391",
   "metadata": {},
   "source": [
    "Here also we can see that scaling has improved our model efficiency"
   ]
  },
  {
   "cell_type": "markdown",
   "id": "4ef47811",
   "metadata": {},
   "source": [
    "# PCA for feature reduction"
   ]
  },
  {
   "cell_type": "code",
   "execution_count": 38,
   "id": "73d68ca1",
   "metadata": {},
   "outputs": [
    {
     "data": {
      "text/plain": [
       "(178, 2)"
      ]
     },
     "execution_count": 38,
     "metadata": {},
     "output_type": "execute_result"
    }
   ],
   "source": [
    "from sklearn.decomposition import PCA\n",
    "pca = PCA(n_components = 2)\n",
    "pca.fit(sdata)\n",
    "x_pca = pca.transform(sdata)\n",
    "x_pca.shape"
   ]
  },
  {
   "cell_type": "code",
   "execution_count": 41,
   "id": "8fdf3d16",
   "metadata": {},
   "outputs": [
    {
     "data": {
      "image/png": "[encoded data removed]",
      "text/plain": [
       "<Figure size 576x432 with 1 Axes>"
      ]
     },
     "metadata": {
      "needs_background": "light"
     },
     "output_type": "display_data"
    }
   ],
   "source": [
    "plt.figure(figsize =(8, 6))\n",
    "plt.scatter(x_pca[:,0],x_pca[:,1],color='cyan')\n",
    "plt.xlabel('Principal Component 1')\n",
    "plt.ylabel('Principal Component 2')\n",
    "plt.title('Plot between PC1 and PC2',fontweight='bold')\n",
    "plt.show()"
   ]
  },
  {
   "cell_type": "code",
   "execution_count": 40,
   "id": "59278c2d",
   "metadata": {},
   "outputs": [],
   "source": [
    "#for visualisation"
   ]
  }
 ],
 "metadata": {
  "kernelspec": {
   "display_name": "Python 3",
   "language": "python",
   "name": "python3"
  },
  "language_info": {
   "codemirror_mode": {
    "name": "ipython",
    "version": 3
   },
   "file_extension": ".py",
   "mimetype": "text/x-python",
   "name": "python",
   "nbconvert_exporter": "python",
   "pygments_lexer": "ipython3",
   "version": "3.8.8"
  }
 },
 "nbformat": 4,
 "nbformat_minor": 5
}
